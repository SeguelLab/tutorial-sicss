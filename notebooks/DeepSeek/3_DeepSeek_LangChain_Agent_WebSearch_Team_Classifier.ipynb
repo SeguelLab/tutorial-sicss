{
  "cells": [
    {
      "cell_type": "markdown",
      "metadata": {
        "id": "GMrpGw3WjvmS"
      },
      "source": [
        "# Using an LLM Agent with Web Search and DeepSeek to Classify Sports Teams from a CSV File\n",
        "\n",
        "This notebook demonstrates how to use a LangChain-based LLM agent with a web search tool to classify sports teams listed in a CSV file. Each row in the CSV contains a team name. The agent will use real-time web search to determine the sport associated with each team and add a corresponding label."
      ]
    },
    {
      "cell_type": "markdown",
      "metadata": {
        "id": "zQQ89jNCjvmV"
      },
      "source": [
        "## Step 1: Install Required Packages\n",
        "\n",
        "We will use the LangChain framework, OpenAI for LLM access, and the Tavily web search integration. Pandas will be used to work with CSV files."
      ]
    },
    {
      "cell_type": "code",
      "execution_count": 2,
      "metadata": {
        "id": "KeP6ajXRjvmW"
      },
      "outputs": [],
      "source": [
        "!pip install --quiet langchain_openai pandas tavily-python langchain-community langchain_tavily"
      ]
    },
    {
      "cell_type": "markdown",
      "metadata": {
        "id": "i64GqbNDjvmW"
      },
      "source": [
        "## Step 2: Set Up API Keys\n",
        "\n",
        "You will need:\n",
        "- A DeepSeek API Key\n",
        "- A Tavily API key (sign up at https://app.tavily.com/)\n",
        "\n",
        "These are required to access the LLM and the web search service."
      ]
    },
    {
      "cell_type": "code",
      "execution_count": 8,
      "metadata": {
        "colab": {
          "base_uri": "https://localhost:8080/"
        },
        "id": "iDX9Sd2YjvmX",
        "outputId": "be7ea549-5a6e-4608-e58d-9e43c18f1d7f"
      },
      "outputs": [],
      "source": [
        "import os\n",
        "import getpass\n",
        "\n",
        "os.environ[\"OPENAI_API_KEY\"] = getpass.getpass(\"Enter your DeepSeek API key: \")\n",
        "os.environ[\"TAVILY_API_KEY\"] = getpass.getpass(\"Enter your Tavily API key: \")"
      ]
    },
    {
      "cell_type": "markdown",
      "metadata": {
        "id": "qPznjeXYjvmX"
      },
      "source": [
        "## Step 3: Initialize the Agent with Web Search Tool\n",
        "\n",
        "We will set up an LLM agent with the Tavily web search tool. The agent will decide when to invoke the search tool to classify each team."
      ]
    },
    {
      "cell_type": "code",
      "execution_count": 12,
      "metadata": {
        "id": "jx5ZvGIejvmX"
      },
      "outputs": [],
      "source": [
        "\n",
        "from langchain_openai import ChatOpenAI\n",
        "from langchain.agents import initialize_agent, AgentType\n",
        "from langchain_community.tools.tavily_search import TavilySearchResults\n",
        "\n",
        "# Initialize model and tools\n",
        "llm = ChatOpenAI(temperature=0,\n",
        "                 base_url=\"https://api.deepseek.com\",\n",
        "                 model='deepseek-chat')\n",
        "search_tool = TavilySearchResults(max_results=5)\n",
        "search_tool.name = \"search\"\n",
        "agent = initialize_agent([search_tool], llm, agent=AgentType.ZERO_SHOT_REACT_DESCRIPTION, verbose=True,\n",
        "                         handle_parsing_errors=True)"
      ]
    },
    {
      "cell_type": "code",
      "execution_count": 27,
      "metadata": {
        "colab": {
          "base_uri": "https://localhost:8080/"
        },
        "id": "LTeaC4uhjrm0",
        "outputId": "261512f0-f30d-4a67-dc76-fb2fb52608ba"
      },
      "outputs": [
        {
          "name": "stdout",
          "output_type": "stream",
          "text": [
            "Drive already mounted at /content/drive; to attempt to forcibly remount, call drive.mount(\"/content/drive\", force_remount=True).\n"
          ]
        }
      ],
      "source": [
        "from google.colab import drive\n",
        "drive.mount('/content/drive')"
      ]
    },
    {
      "cell_type": "markdown",
      "metadata": {
        "id": "l8R7e7h_jvmY"
      },
      "source": [
        "## Step 4: Load the CSV File\n",
        "\n",
        "We load the CSV file that contains the names of sports teams. Each row has one team name under a column named 'Team'."
      ]
    },
    {
      "cell_type": "code",
      "execution_count": 10,
      "metadata": {
        "colab": {
          "base_uri": "https://localhost:8080/",
          "height": 206
        },
        "id": "ZRDToyKUjvmY",
        "outputId": "f45447ad-350e-417e-962e-d4431f0163e5"
      },
      "outputs": [
        {
          "data": {
            "text/html": [
              "<div>\n",
              "<style scoped>\n",
              "    .dataframe tbody tr th:only-of-type {\n",
              "        vertical-align: middle;\n",
              "    }\n",
              "\n",
              "    .dataframe tbody tr th {\n",
              "        vertical-align: top;\n",
              "    }\n",
              "\n",
              "    .dataframe thead th {\n",
              "        text-align: right;\n",
              "    }\n",
              "</style>\n",
              "<table border=\"1\" class=\"dataframe\">\n",
              "  <thead>\n",
              "    <tr style=\"text-align: right;\">\n",
              "      <th></th>\n",
              "      <th>Team</th>\n",
              "      <th>Country</th>\n",
              "      <th>City</th>\n",
              "      <th>Stadium Capacity</th>\n",
              "    </tr>\n",
              "  </thead>\n",
              "  <tbody>\n",
              "    <tr>\n",
              "      <th>0</th>\n",
              "      <td>Los Angeles Lakers</td>\n",
              "      <td>USA</td>\n",
              "      <td>Los Angeles</td>\n",
              "      <td>19000</td>\n",
              "    </tr>\n",
              "    <tr>\n",
              "      <th>1</th>\n",
              "      <td>Manchester United</td>\n",
              "      <td>UK</td>\n",
              "      <td>Manchester</td>\n",
              "      <td>74000</td>\n",
              "    </tr>\n",
              "    <tr>\n",
              "      <th>2</th>\n",
              "      <td>Toronto Maple Leafs</td>\n",
              "      <td>Canada</td>\n",
              "      <td>Toronto</td>\n",
              "      <td>18600</td>\n",
              "    </tr>\n",
              "    <tr>\n",
              "      <th>3</th>\n",
              "      <td>Golden State Warriors</td>\n",
              "      <td>USA</td>\n",
              "      <td>San Francisco</td>\n",
              "      <td>19500</td>\n",
              "    </tr>\n",
              "    <tr>\n",
              "      <th>4</th>\n",
              "      <td>New England Patriots</td>\n",
              "      <td>USA</td>\n",
              "      <td>Boston</td>\n",
              "      <td>65878</td>\n",
              "    </tr>\n",
              "  </tbody>\n",
              "</table>\n",
              "</div>"
            ],
            "text/plain": [
              "                    Team Country           City  Stadium Capacity\n",
              "0     Los Angeles Lakers     USA    Los Angeles             19000\n",
              "1      Manchester United      UK     Manchester             74000\n",
              "2    Toronto Maple Leafs  Canada        Toronto             18600\n",
              "3  Golden State Warriors     USA  San Francisco             19500\n",
              "4   New England Patriots     USA         Boston             65878"
            ]
          },
          "metadata": {},
          "output_type": "display_data"
        }
      ],
      "source": [
        "import pandas as pd\n",
        "from IPython.display import display\n",
        "\n",
        "# Path to your CSV file\n",
        "data_path = \"../../data/sports_teams.csv\"\n",
        "if os.path.exists(data_path):\n",
        "    df = pd.read_csv(data_path)\n",
        "    display(df.head())\n",
        "else:\n",
        "    try:\n",
        "        csv_path = \"sports_teams.csv\"\n",
        "        df = pd.read_csv(csv_path)\n",
        "        display(df.head())\n",
        "    except Exception as e:\n",
        "        print(f\"{e}\\nThe CSV file should be in the same directory as the notebook, or you must be running the code locally using git clone.\")"
      ]
    },
    {
      "cell_type": "markdown",
      "metadata": {
        "id": "7lBovPfXjvmY"
      },
      "source": [
        "## Step 5: Classify Each Team Using the Agent\n",
        "\n",
        "The agent will search the web and respond with the sport that each team plays. We apply this to each team in the dataset."
      ]
    },
    {
      "cell_type": "code",
      "execution_count": 13,
      "metadata": {
        "colab": {
          "base_uri": "https://localhost:8080/",
          "height": 1000
        },
        "collapsed": true,
        "id": "FpQSj2CpjvmY",
        "outputId": "5a044bcc-4acd-49db-f4d6-2144249858b3"
      },
      "outputs": [
        {
          "name": "stdout",
          "output_type": "stream",
          "text": [
            "\n",
            "\n",
            "\u001b[1m> Entering new AgentExecutor chain...\u001b[0m\n",
            "\u001b[32;1m\u001b[1;3mThought: The Los Angeles Lakers are a well-known professional sports team, and I need to determine which sport they are most famous for playing. Since they are based in Los Angeles, they are likely part of a major U.S. sports league.\n",
            "\n",
            "Action: search  \n",
            "Action Input: \"What sport do the Los Angeles Lakers play?\"\n",
            "\u001b[0m\n",
            "Observation: \u001b[36;1m\u001b[1;3m[{'title': 'Los Angeles Lakers Historical Statistics and All-Time Top Leaders', 'url': 'https://www.basketball-reference.com/teams/LAL/', 'content': '*   [Basketball](https://www.basketball-reference.com/?utm_source=bbr&utm_medium=sr_xsite&utm_campaign=2023_01_srnav) [(college)](https://www.sports-reference.com/cbb/)\\n*   [Hockey](https://www.hockey-reference.com/?utm_source=bbr&utm_medium=sr_xsite&utm_campaign=2023_01_srnav)\\n*   [Soccer](https://fbref.com/en/?utm_source=bbr&utm_medium=sr_xsite&utm_campaign=2023_01_srnav)\\n*   [Blog](https://www.sports-reference.com/blog/?utm_source=bbr&utm_medium=sr_xsite&utm_campaign=2023_01_srnav) [...] *   [Basketball](https://www.basketball-reference.com/?utm_source=bbr&utm_medium=sr_xsite&utm_campaign=2023_01_srnav_footer) [(college)](https://www.sports-reference.com/cbb/)\\n*   [Hockey](https://www.hockey-reference.com/?utm_source=bbr&utm_medium=sr_xsite&utm_campaign=2023_01_srnav_footer)\\n*   [Football](https://fbref.com/fr/?utm_source=bbr&utm_medium=sr_xsite&utm_campaign=2023_01_srnav_footer) [...] *   [Sports Reference ®](https://www.sports-reference.com/?utm_source=bbr&utm_medium=sr_xsite&utm_campaign=2023_01_srnav)\\n*   [Baseball](https://www.baseball-reference.com/?utm_source=bbr&utm_medium=sr_xsite&utm_campaign=2023_01_srnav)\\n*   [Football](https://www.pro-football-reference.com/?utm_source=bbr&utm_medium=sr_xsite&utm_campaign=2023_01_srnav) [(college)](https://www.sports-reference.com/cfb/)', 'score': 0.78214747}, {'title': 'Los Angeles Lakers - Students | Britannica Kids | Homework Help', 'url': 'https://kids.britannica.com/students/article/Los-Angeles-Lakers/570918', 'content': 'A professional [basketball](https://kids.britannica.com/students/article/basketball/273121) team based in [Los Angeles](https://kids.britannica.com/students/article/Los-Angeles/275538), California, the Lakers are one of the most successful and popular franchises in American sports. The team has won a combined 17 Basketball Association of America (BAA) and [National Basketball Association](https://kids.britannica.com/students/article/National-Basketball-Association-NBA/624441) (NBA) titles. [...] The franchise that would become the Lakers was founded in 1946 as the Detroit Gems and played in the National Basketball League (NBL). In 1947 the team moved to Minneapolis, Minnesota. Its name was changed to the Lakers to reflect the Minnesota state nickname, Land of 10,000 Lakes. That same year the Lakers acquired [George Mikan](https://kids.britannica.com/students/article/George-Mikan/312505). He became professional basketball’s first dominant “big man” and the first in a series of great [...] [![Image 10: 200244 004 11 Cd9 A9 D](https://cdn.britannica.com/44/200244-004-11CD9A9D.jpg) Dave Pickoff—AP/Shutterstock.com This image also in: * [Students basketball](https://kids.britannica.com/students/article/basketball/273121) * [Students Wilt Chamberlain](https://kids.britannica.com/students/article/Wilt-Chamberlain/273591)](https://kids.britannica.com/students/article/Los-Angeles-Lakers/570918/media?assemblyId=235732 \"Wilt Chamberlain\")\\n\\nDave Pickoff—AP/Shutterstock.com', 'score': 0.7548612}, {'title': 'Los Angeles Lakers 2024-25 Postseason NBA Schedule - ESPN', 'url': 'https://www.espn.com/nba/team/schedule/_/name/lal/los-angeles-lakers', 'content': \"*   [MLB](https://www.espn.com/mlb/)\\n\\n*   [More Sports](http://www.espn.com/)\\n\\n*   [![Image 2: ESPN+](blob:http://localhost/b9a31d3949b1882a09ed2f8508d538f3)](https://www.espn.com/espnplus/?om-navmethod=topnav)\\n\\n*   [![Image 3: ESPN BET](blob:http://localhost/b9a31d3949b1882a09ed2f8508d538f3)](https://espnbet.app.link/V424mquT4Eb?$3p=a_espn)\\n\\n*   [Watch](http://www.espn.com/watch/)\\n\\n*   [Fantasy](https://www.espn.com/fantasy/)\\n\\n*   [](https://www.espn.com/where-to-watch) [...] Los Angeles Lakers 2024-25 Regular Season NBA Schedule - ESPN\\n===============\\n\\n![Image 1](blob:http://localhost/2ae4cf0a8557682a62e562fa2b78188e)\\n\\nSkip to main contentSkip to navigation\\n\\n[ESPN](https://www.espn.com/)\\n\\n*   [NFL](https://www.espn.com/nfl/)\\n\\n*   [NBA](https://www.espn.com/nba/)\\n\\n*   [NHL](https://www.espn.com/nhl/)\\n\\n*   [NCAAM](https://www.espn.com/mens-college-basketball/)\\n\\n*   [NCAAW](https://www.espn.com/womens-college-basketball/)\\n\\n*   [Soccer](https://www.espn.com/soccer/) [...] *   [Fantasy Men's Basketball](https://www.espn.com/fantasy/mens-basketball/)\\n\\n*   [Tickets](https://www.vividseats.com/nba/los-angeles-lakers-tickets.html?wsUser=717&wsVar=us~nba~team,nba,desktop,en)\\n\\nLos Angeles Lakers Schedule 2024-25\\n===================================\", 'score': 0.5553635}, {'title': 'Lakers | Crypto.com Arena', 'url': 'https://www.cryptoarena.com/teams/detail/lakers', 'content': 'Crypto.com Arena is home to the Los Angeles Lakers of the National Basketball Association.', 'score': 0.5380859}, {'title': 'Schedule | Los Angeles Lakers - NBA', 'url': 'https://www.nba.com/lakers/schedule', 'content': '*   [Careers](https://sites.teamworkonline.com/los-angeles-lakers/) [...] *   [Careers](https://sites.teamworkonline.com/los-angeles-lakers/) [...] [](https://www.facebook.com/losangeleslakers \"Find us on Facebook\")[](https://twitter.com/lakers \"Find us on X\")[](https://www.instagram.com/lakers/ \"Find us on Instagram\")[](https://www.youtube.com/channel/UC8CSt-oVqy8pUAoKSApTxQw \"Find us on YouTube\")[](https://www.tiktok.com/@lakers?lang=en \"Find us on TikTok\")[](https://www.snapchat.com/add/lakerssnaps \"Find us on SnapChat\")[](https://www.nba.com/lakers/connect/lakers-main-sub \"Find us on Email\")\\n\\n* * *', 'score': 0.51310796}]\u001b[0m\n",
            "Thought:\u001b[32;1m\u001b[1;3mThe search results consistently indicate that the Los Angeles Lakers are a professional basketball team. The most famous sport associated with them is basketball.\n",
            "\n",
            "Final Answer: basketball\u001b[0m\n",
            "\n",
            "\u001b[1m> Finished chain.\u001b[0m\n",
            "\n",
            "\n",
            "\u001b[1m> Entering new AgentExecutor chain...\u001b[0m\n",
            "\u001b[32;1m\u001b[1;3mThought: I need to determine the most famous sport associated with the team 'Manchester United'. Since Manchester United is widely known, I can recall that it is a football (soccer) team, but I'll verify to ensure accuracy.\n",
            "\n",
            "Action: [search]  \n",
            "Action Input: \"What sport does Manchester United play?\"  \n",
            "\u001b[0m\n",
            "Observation: [search] is not a valid tool, try one of [search].\n",
            "Thought:\u001b[32;1m\u001b[1;3mI apologize for the confusion. Let me proceed correctly.\n",
            "\n",
            "Action: search  \n",
            "Action Input: \"What sport does Manchester United play?\"  \n",
            "\u001b[0m\n",
            "Observation: \u001b[36;1m\u001b[1;3m[{'title': 'Manchester United | History, Records & Achievements - Britannica', 'url': 'https://www.britannica.com/topic/Manchester-United', 'content': '**Manchester United**, English professional [football](https://www.britannica.com/sports/football-soccer) (soccer) team based in [Manchester](https://www.britannica.com/place/Manchester-England), [England](https://www.britannica.com/place/England). Nicknamed “the Red Devils” for its distinctive red jerseys, it is one of the richest and best-supported football clubs not only in England but in the entire world. The club has won the English top-division league championship a record 20 times and [...] # Manchester United\\n\\nOur editors will review what you’ve submitted and determine whether to revise the article.\\n\\n### What is Manchester United?\\n\\nManchester United is an English professional football (soccer) team based in Manchester, England. It is one of the richest and best-supported football clubs not only in England but in the entire world. The club has won the English top-division league championship a record 20 times and the Football Association Cup 12 times.', 'score': 0.7915799}, {'title': 'Sport in Manchester - Wikipedia', 'url': 'https://en.wikipedia.org/wiki/Sport_in_Manchester', 'content': '*   [(Top)](https://en.wikipedia.org/wiki/Sport_in_Manchester#)\\n*   [1 Football](https://en.wikipedia.org/wiki/Sport_in_Manchester#Football)\\n\\n*   [2 Athletics](https://en.wikipedia.org/wiki/Sport_in_Manchester#Athletics)\\n\\n*   [3 Rugby League](https://en.wikipedia.org/wiki/Sport_in_Manchester#Rugby_League)\\n\\n*   [4 Rugby Union](https://en.wikipedia.org/wiki/Sport_in_Manchester#Rugby_Union)\\n\\n*   [5 Swimming](https://en.wikipedia.org/wiki/Sport_in_Manchester#Swimming) [...] *   [FA Charity/Community Shield](https://en.wikipedia.org/wiki/FA_Community_Shield \"FA Community Shield\") – 11 \\n    *   Old Trafford – 6\\n    *   Maine Road – 5\\n\\n### Cricket\\n\\n[[edit](https://en.wikipedia.org/w/index.php?title=Sport_in_Manchester&action=edit&section=18 \"Edit section: Cricket\")] [...] Domestic\\n*   [Super League Grand Final](https://en.wikipedia.org/wiki/Super_League_Grand_Final \"Super League Grand Final\") venue - [Old Trafford](https://en.wikipedia.org/wiki/Old_Trafford \"Old Trafford\")\\n\\n### Rugby Union\\n\\n[[edit](https://en.wikipedia.org/w/index.php?title=Sport_in_Manchester&action=edit&section=21 \"Edit section: Rugby Union\")]', 'score': 0.74807674}, {'title': 'Manchester United Scores, Stats and Highlights - ESPN', 'url': 'https://www.espn.com/soccer/team?id=360', 'content': '*   [NFL](https://www.espn.com/nfl/)\\n*   [NBA](https://www.espn.com/nba/)\\n*   [NHL](https://www.espn.com/nhl/)\\n*   [MLB](https://www.espn.com/mlb/)\\n*   [WNBA](https://www.espn.com/wnba/)\\n*   [Golf](https://www.espn.com/golf/)\\n*   [More Sports](https://www.espn.com/soccer/team?id=360#) [...] ![Image 131](https://a.espncdn.com/combiner/i?img=/i/teamlogos/soccer/500/360.png&scale=crop&cquality=40&location=origin&w=80&h=80)\\n\\nManchester United\\n-----------------\\n\\n### SOCCER [...] ![Image 141](https://a.espncdn.com/combiner/i?img=/i/teamlogos/soccer/500/360.png&scale=crop&cquality=40&location=origin&w=80&h=80)\\n\\nManchester United\\n-----------------\\n\\n### SOCCER', 'score': 0.68420124}, {'title': 'Manchester United Scores, Stats and Highlights - ESPN', 'url': 'https://www.espn.com/soccer/team/_/id/360/manchester-united', 'content': '*   [NFL](https://www.espn.com/nfl/)\\n*   [NBA](https://www.espn.com/nba/)\\n*   [NHL](https://www.espn.com/nhl/)\\n*   [MLB](https://www.espn.com/mlb/)\\n*   [WNBA](https://www.espn.com/wnba/)\\n*   [Golf](https://www.espn.com/golf/)\\n*   [More Sports](http://www.espn.com/) [...] ![Image 158](https://a.espncdn.com/combiner/i?img=/i/teamlogos/soccer/500/360.png&scale=crop&cquality=40&location=origin&w=80&h=80)\\n\\nManchester United\\n-----------------\\n\\n### SOCCER [...] ![Image 156](https://a.espncdn.com/combiner/i?img=/i/teamlogos/soccer/500/360.png&scale=crop&cquality=40&location=origin&w=80&h=80)\\n\\nManchester United\\n-----------------\\n\\n### SOCCER', 'score': 0.67140645}]\u001b[0m\n",
            "Thought:\u001b[32;1m\u001b[1;3mThe search results confirm that Manchester United is primarily associated with football (soccer). \n",
            "\n",
            "Final Answer: football\u001b[0m\n",
            "\n",
            "\u001b[1m> Finished chain.\u001b[0m\n",
            "\n",
            "\n",
            "\u001b[1m> Entering new AgentExecutor chain...\u001b[0m\n",
            "\u001b[32;1m\u001b[1;3mThought: I need to find out what sport the Toronto Maple Leafs are most famous for playing. Since they are a well-known team, a quick search should confirm their sport.\n",
            "\n",
            "Action: [search]  \n",
            "Action Input: \"Toronto Maple Leafs sport\"  \n",
            "\u001b[0m\n",
            "Observation: [search] is not a valid tool, try one of [search].\n",
            "Thought:\u001b[32;1m\u001b[1;3mThought: I need to use the correct tool to search for the sport associated with the Toronto Maple Leafs.\n",
            "\n",
            "Action: search  \n",
            "Action Input: \"Toronto Maple Leafs sport\"  \n",
            "\u001b[0m\n",
            "Observation: \u001b[36;1m\u001b[1;3m[{'title': 'Toronto Maple Leafs - Wikipedia', 'url': 'https://en.wikipedia.org/wiki/Toronto_Maple_Leafs', 'content': 'The **Toronto Maple Leafs** (officially the **Toronto Maple Leaf Hockey Club** and often referred to as the **Leafs**) are a professional [ice hockey](/wiki/Ice_hockey \"Ice hockey\") team based in [Toronto](/wiki/Toronto \"Toronto\"). The Maple Leafs compete in the [National Hockey League](/wiki/National_Hockey_League \"National Hockey League\") (NHL) as a member of the [Atlantic Division](/wiki/Atlantic_Division_(NHL) \"Atlantic Division (NHL)\") in the [Eastern [...] [e](/wiki/Special:EditPage/Template:Toronto_Sports \"Special:EditPage/Template:Toronto Sports\")  Sports in the [Greater Toronto Area](/wiki/Greater_Toronto_Area \"Greater Toronto Area\") | | | --- | --- | | General | * [List of sports teams in Toronto](/wiki/List_of_sports_teams_in_Toronto \"List of sports teams in Toronto\") * [Sports in Toronto](/wiki/Sports_in_Toronto \"Sports in Toronto\") | | [Baseball](/wiki/Baseball \"Baseball\") | [MLB](/wiki/Major_League_Baseball \"Major League Baseball\") [...] Soccer](/wiki/Major_League_Soccer \"Major League Soccer\"), the Toronto Marlies of the AHL, the [Toronto Argonauts](/wiki/Toronto_Argonauts \"Toronto Argonauts\") of the Canadian Football League, and a 37.5 percent stake in [Maple Leaf Square](/wiki/Maple_Leaf_Square \"Maple Leaf Square\").[[304]](#cite_note-308)', 'score': 0.8312667}, {'title': 'Toronto Maple Leafs Scores, Stats and Highlights - ESPN', 'url': 'https://www.espn.com/nhl/team/_/name/tor/toronto-maple-leafs', 'content': '*   [NFL](https://www.espn.com/nfl/)\\n*   [NBA](https://www.espn.com/nba/)\\n*   [NHL](https://www.espn.com/nhl/)\\n*   [MLB](https://www.espn.com/mlb/)\\n*   [Soccer](https://www.espn.com/soccer/)\\n*   [Golf](https://www.espn.com/golf/)\\n*   [More Sports](http://www.espn.com/)', 'score': 0.67192334}]\u001b[0m\n",
            "Thought:\u001b[32;1m\u001b[1;3mThought: The search results confirm that the Toronto Maple Leafs are a professional ice hockey team competing in the NHL. Ice hockey is their most famous and primary sport.\n",
            "\n",
            "Final Answer: ice hockey\u001b[0m\n",
            "\n",
            "\u001b[1m> Finished chain.\u001b[0m\n"
          ]
        },
        {
          "data": {
            "text/html": [
              "<div>\n",
              "<style scoped>\n",
              "    .dataframe tbody tr th:only-of-type {\n",
              "        vertical-align: middle;\n",
              "    }\n",
              "\n",
              "    .dataframe tbody tr th {\n",
              "        vertical-align: top;\n",
              "    }\n",
              "\n",
              "    .dataframe thead th {\n",
              "        text-align: right;\n",
              "    }\n",
              "</style>\n",
              "<table border=\"1\" class=\"dataframe\">\n",
              "  <thead>\n",
              "    <tr style=\"text-align: right;\">\n",
              "      <th></th>\n",
              "      <th>Team</th>\n",
              "      <th>Country</th>\n",
              "      <th>City</th>\n",
              "      <th>Stadium Capacity</th>\n",
              "      <th>Sport</th>\n",
              "    </tr>\n",
              "  </thead>\n",
              "  <tbody>\n",
              "    <tr>\n",
              "      <th>0</th>\n",
              "      <td>Los Angeles Lakers</td>\n",
              "      <td>USA</td>\n",
              "      <td>Los Angeles</td>\n",
              "      <td>19000</td>\n",
              "      <td>basketball</td>\n",
              "    </tr>\n",
              "    <tr>\n",
              "      <th>1</th>\n",
              "      <td>Manchester United</td>\n",
              "      <td>UK</td>\n",
              "      <td>Manchester</td>\n",
              "      <td>74000</td>\n",
              "      <td>football</td>\n",
              "    </tr>\n",
              "    <tr>\n",
              "      <th>2</th>\n",
              "      <td>Toronto Maple Leafs</td>\n",
              "      <td>Canada</td>\n",
              "      <td>Toronto</td>\n",
              "      <td>18600</td>\n",
              "      <td>ice hockey</td>\n",
              "    </tr>\n",
              "    <tr>\n",
              "      <th>3</th>\n",
              "      <td>Golden State Warriors</td>\n",
              "      <td>USA</td>\n",
              "      <td>San Francisco</td>\n",
              "      <td>19500</td>\n",
              "      <td>NaN</td>\n",
              "    </tr>\n",
              "    <tr>\n",
              "      <th>4</th>\n",
              "      <td>New England Patriots</td>\n",
              "      <td>USA</td>\n",
              "      <td>Boston</td>\n",
              "      <td>65878</td>\n",
              "      <td>NaN</td>\n",
              "    </tr>\n",
              "  </tbody>\n",
              "</table>\n",
              "</div>"
            ],
            "text/plain": [
              "                    Team Country           City  Stadium Capacity       Sport\n",
              "0     Los Angeles Lakers     USA    Los Angeles             19000  basketball\n",
              "1      Manchester United      UK     Manchester             74000    football\n",
              "2    Toronto Maple Leafs  Canada        Toronto             18600  ice hockey\n",
              "3  Golden State Warriors     USA  San Francisco             19500         NaN\n",
              "4   New England Patriots     USA         Boston             65878         NaN"
            ]
          },
          "execution_count": 13,
          "metadata": {},
          "output_type": "execute_result"
        }
      ],
      "source": [
        "# Define a function that sends a query to an LLM agent to classify the sport associated with a given team name.\n",
        "# The agent uses web search and reasoning to identify the sport, and returns only the name of the most well-known one.\n",
        "# If an error occurs during the query process, it returns an error message instead.\n",
        "def classify_team_with_agent(team_name):\n",
        "    try:\n",
        "        query = f\"\"\"What sport does the team '{team_name}' play? only return\n",
        "        the sport name, if there are multiple sports associated with the name,\n",
        "        only return the most famous one\"\"\"\n",
        "        return agent.invoke(query)[\"output\"]\n",
        "    except Exception as e:\n",
        "        return f\"error: {str(e)}\"\n",
        "\n",
        "# Apply the classification function to the first 3 rows of the 'Team' column in the DataFrame.\n",
        "# The result is stored in a new column called 'Sport'. This is useful for testing before applying to the full dataset.\n",
        "df[\"Sport\"] = df[:3][\"Team\"].apply(classify_team_with_agent)\n",
        "\n",
        "df.head()"
      ]
    },
    {
      "cell_type": "markdown",
      "metadata": {
        "id": "ns4aLOEXjvmZ"
      },
      "source": [
        "## Step 6: Save the Updated Table\n",
        "\n",
        "The resulting DataFrame will be saved to a new CSV file with the added sport classification column."
      ]
    },
    {
      "cell_type": "code",
      "execution_count": 39,
      "metadata": {
        "colab": {
          "base_uri": "https://localhost:8080/"
        },
        "id": "UCLase_GjvmZ",
        "outputId": "8def4294-7dbc-4829-9af6-d0d264222751"
      },
      "outputs": [
        {
          "name": "stdout",
          "output_type": "stream",
          "text": [
            "Saved results to classified_teams_with_web_search.csv\n"
          ]
        }
      ],
      "source": [
        "output_path = \"classified_teams_with_web_search.csv\"\n",
        "df.to_csv(output_path, index=False)\n",
        "print(f\"Saved results to {output_path}\")"
      ]
    },
    {
      "cell_type": "markdown",
      "metadata": {
        "id": "elWj090Yiidg"
      },
      "source": [
        "## Classifying Teams Without an Agent (Direct DeepSeek LLM Call)\n",
        "\n",
        "In this section, we will replicate the classification task without using an agent. Instead, we will call the DeepSeek model directly for each team using a prompt. This avoids tool usage and allows for simpler, one-shot classification via LLM reasoning only.\n"
      ]
    },
    {
      "cell_type": "code",
      "execution_count": 40,
      "metadata": {
        "id": "xUYF8UjIit3M"
      },
      "outputs": [],
      "source": [
        "# Function that sends a prompt to DeepSeek LLM directly\n",
        "def classify_team_direct(team_name):\n",
        "    prompt = f\"\"\"\n",
        "You are a sports expert. Given the team name: \"{team_name}\", respond with the **sport it is most famously associated with**.\n",
        "Only output the sport name, and do not include any explanation.\n",
        "If it's ambiguous, pick the most common interpretation based on global popularity.\n",
        "\"\"\"\n",
        "    try:\n",
        "        return llm.predict(prompt).strip()\n",
        "    except Exception as e:\n",
        "        return f\"error: {str(e)}\""
      ]
    },
    {
      "cell_type": "code",
      "execution_count": 41,
      "metadata": {
        "colab": {
          "base_uri": "https://localhost:8080/",
          "height": 206
        },
        "id": "CfiRc7G7i9Pa",
        "outputId": "9f7fee48-6d67-4d62-d199-f09e283b457d"
      },
      "outputs": [
        {
          "data": {
            "application/vnd.google.colaboratory.intrinsic+json": {
              "summary": "{\n  \"name\": \"df[[\\\"Team\\\", \\\"Sport\\\"]]\",\n  \"rows\": 5,\n  \"fields\": [\n    {\n      \"column\": \"Team\",\n      \"properties\": {\n        \"dtype\": \"string\",\n        \"num_unique_values\": 5,\n        \"samples\": [\n          \"Manchester United\",\n          \"New England Patriots\",\n          \"Toronto Maple Leafs\"\n        ],\n        \"semantic_type\": \"\",\n        \"description\": \"\"\n      }\n    },\n    {\n      \"column\": \"Sport\",\n      \"properties\": {\n        \"dtype\": \"string\",\n        \"num_unique_values\": 3,\n        \"samples\": [\n          \"Basketball\",\n          \"football\",\n          \"Ice hockey\"\n        ],\n        \"semantic_type\": \"\",\n        \"description\": \"\"\n      }\n    }\n  ]\n}",
              "type": "dataframe"
            },
            "text/html": [
              "\n",
              "  <div id=\"df-a15dca04-9561-4f1c-979a-8aed8b2fef4d\" class=\"colab-df-container\">\n",
              "    <div>\n",
              "<style scoped>\n",
              "    .dataframe tbody tr th:only-of-type {\n",
              "        vertical-align: middle;\n",
              "    }\n",
              "\n",
              "    .dataframe tbody tr th {\n",
              "        vertical-align: top;\n",
              "    }\n",
              "\n",
              "    .dataframe thead th {\n",
              "        text-align: right;\n",
              "    }\n",
              "</style>\n",
              "<table border=\"1\" class=\"dataframe\">\n",
              "  <thead>\n",
              "    <tr style=\"text-align: right;\">\n",
              "      <th></th>\n",
              "      <th>Team</th>\n",
              "      <th>Sport</th>\n",
              "    </tr>\n",
              "  </thead>\n",
              "  <tbody>\n",
              "    <tr>\n",
              "      <th>0</th>\n",
              "      <td>Los Angeles Lakers</td>\n",
              "      <td>Basketball</td>\n",
              "    </tr>\n",
              "    <tr>\n",
              "      <th>1</th>\n",
              "      <td>Manchester United</td>\n",
              "      <td>football</td>\n",
              "    </tr>\n",
              "    <tr>\n",
              "      <th>2</th>\n",
              "      <td>Toronto Maple Leafs</td>\n",
              "      <td>Ice hockey</td>\n",
              "    </tr>\n",
              "    <tr>\n",
              "      <th>3</th>\n",
              "      <td>Golden State Warriors</td>\n",
              "      <td>NaN</td>\n",
              "    </tr>\n",
              "    <tr>\n",
              "      <th>4</th>\n",
              "      <td>New England Patriots</td>\n",
              "      <td>NaN</td>\n",
              "    </tr>\n",
              "  </tbody>\n",
              "</table>\n",
              "</div>\n",
              "    <div class=\"colab-df-buttons\">\n",
              "\n",
              "  <div class=\"colab-df-container\">\n",
              "    <button class=\"colab-df-convert\" onclick=\"convertToInteractive('df-a15dca04-9561-4f1c-979a-8aed8b2fef4d')\"\n",
              "            title=\"Convert this dataframe to an interactive table.\"\n",
              "            style=\"display:none;\">\n",
              "\n",
              "  <svg xmlns=\"http://www.w3.org/2000/svg\" height=\"24px\" viewBox=\"0 -960 960 960\">\n",
              "    <path d=\"M120-120v-720h720v720H120Zm60-500h600v-160H180v160Zm220 220h160v-160H400v160Zm0 220h160v-160H400v160ZM180-400h160v-160H180v160Zm440 0h160v-160H620v160ZM180-180h160v-160H180v160Zm440 0h160v-160H620v160Z\"/>\n",
              "  </svg>\n",
              "    </button>\n",
              "\n",
              "  <style>\n",
              "    .colab-df-container {\n",
              "      display:flex;\n",
              "      gap: 12px;\n",
              "    }\n",
              "\n",
              "    .colab-df-convert {\n",
              "      background-color: #E8F0FE;\n",
              "      border: none;\n",
              "      border-radius: 50%;\n",
              "      cursor: pointer;\n",
              "      display: none;\n",
              "      fill: #1967D2;\n",
              "      height: 32px;\n",
              "      padding: 0 0 0 0;\n",
              "      width: 32px;\n",
              "    }\n",
              "\n",
              "    .colab-df-convert:hover {\n",
              "      background-color: #E2EBFA;\n",
              "      box-shadow: 0px 1px 2px rgba(60, 64, 67, 0.3), 0px 1px 3px 1px rgba(60, 64, 67, 0.15);\n",
              "      fill: #174EA6;\n",
              "    }\n",
              "\n",
              "    .colab-df-buttons div {\n",
              "      margin-bottom: 4px;\n",
              "    }\n",
              "\n",
              "    [theme=dark] .colab-df-convert {\n",
              "      background-color: #3B4455;\n",
              "      fill: #D2E3FC;\n",
              "    }\n",
              "\n",
              "    [theme=dark] .colab-df-convert:hover {\n",
              "      background-color: #434B5C;\n",
              "      box-shadow: 0px 1px 3px 1px rgba(0, 0, 0, 0.15);\n",
              "      filter: drop-shadow(0px 1px 2px rgba(0, 0, 0, 0.3));\n",
              "      fill: #FFFFFF;\n",
              "    }\n",
              "  </style>\n",
              "\n",
              "    <script>\n",
              "      const buttonEl =\n",
              "        document.querySelector('#df-a15dca04-9561-4f1c-979a-8aed8b2fef4d button.colab-df-convert');\n",
              "      buttonEl.style.display =\n",
              "        google.colab.kernel.accessAllowed ? 'block' : 'none';\n",
              "\n",
              "      async function convertToInteractive(key) {\n",
              "        const element = document.querySelector('#df-a15dca04-9561-4f1c-979a-8aed8b2fef4d');\n",
              "        const dataTable =\n",
              "          await google.colab.kernel.invokeFunction('convertToInteractive',\n",
              "                                                    [key], {});\n",
              "        if (!dataTable) return;\n",
              "\n",
              "        const docLinkHtml = 'Like what you see? Visit the ' +\n",
              "          '<a target=\"_blank\" href=https://colab.research.google.com/notebooks/data_table.ipynb>data table notebook</a>'\n",
              "          + ' to learn more about interactive tables.';\n",
              "        element.innerHTML = '';\n",
              "        dataTable['output_type'] = 'display_data';\n",
              "        await google.colab.output.renderOutput(dataTable, element);\n",
              "        const docLink = document.createElement('div');\n",
              "        docLink.innerHTML = docLinkHtml;\n",
              "        element.appendChild(docLink);\n",
              "      }\n",
              "    </script>\n",
              "  </div>\n",
              "\n",
              "\n",
              "    <div id=\"df-069b3d6a-51b1-45be-b04f-b09218662633\">\n",
              "      <button class=\"colab-df-quickchart\" onclick=\"quickchart('df-069b3d6a-51b1-45be-b04f-b09218662633')\"\n",
              "                title=\"Suggest charts\"\n",
              "                style=\"display:none;\">\n",
              "\n",
              "<svg xmlns=\"http://www.w3.org/2000/svg\" height=\"24px\"viewBox=\"0 0 24 24\"\n",
              "     width=\"24px\">\n",
              "    <g>\n",
              "        <path d=\"M19 3H5c-1.1 0-2 .9-2 2v14c0 1.1.9 2 2 2h14c1.1 0 2-.9 2-2V5c0-1.1-.9-2-2-2zM9 17H7v-7h2v7zm4 0h-2V7h2v10zm4 0h-2v-4h2v4z\"/>\n",
              "    </g>\n",
              "</svg>\n",
              "      </button>\n",
              "\n",
              "<style>\n",
              "  .colab-df-quickchart {\n",
              "      --bg-color: #E8F0FE;\n",
              "      --fill-color: #1967D2;\n",
              "      --hover-bg-color: #E2EBFA;\n",
              "      --hover-fill-color: #174EA6;\n",
              "      --disabled-fill-color: #AAA;\n",
              "      --disabled-bg-color: #DDD;\n",
              "  }\n",
              "\n",
              "  [theme=dark] .colab-df-quickchart {\n",
              "      --bg-color: #3B4455;\n",
              "      --fill-color: #D2E3FC;\n",
              "      --hover-bg-color: #434B5C;\n",
              "      --hover-fill-color: #FFFFFF;\n",
              "      --disabled-bg-color: #3B4455;\n",
              "      --disabled-fill-color: #666;\n",
              "  }\n",
              "\n",
              "  .colab-df-quickchart {\n",
              "    background-color: var(--bg-color);\n",
              "    border: none;\n",
              "    border-radius: 50%;\n",
              "    cursor: pointer;\n",
              "    display: none;\n",
              "    fill: var(--fill-color);\n",
              "    height: 32px;\n",
              "    padding: 0;\n",
              "    width: 32px;\n",
              "  }\n",
              "\n",
              "  .colab-df-quickchart:hover {\n",
              "    background-color: var(--hover-bg-color);\n",
              "    box-shadow: 0 1px 2px rgba(60, 64, 67, 0.3), 0 1px 3px 1px rgba(60, 64, 67, 0.15);\n",
              "    fill: var(--button-hover-fill-color);\n",
              "  }\n",
              "\n",
              "  .colab-df-quickchart-complete:disabled,\n",
              "  .colab-df-quickchart-complete:disabled:hover {\n",
              "    background-color: var(--disabled-bg-color);\n",
              "    fill: var(--disabled-fill-color);\n",
              "    box-shadow: none;\n",
              "  }\n",
              "\n",
              "  .colab-df-spinner {\n",
              "    border: 2px solid var(--fill-color);\n",
              "    border-color: transparent;\n",
              "    border-bottom-color: var(--fill-color);\n",
              "    animation:\n",
              "      spin 1s steps(1) infinite;\n",
              "  }\n",
              "\n",
              "  @keyframes spin {\n",
              "    0% {\n",
              "      border-color: transparent;\n",
              "      border-bottom-color: var(--fill-color);\n",
              "      border-left-color: var(--fill-color);\n",
              "    }\n",
              "    20% {\n",
              "      border-color: transparent;\n",
              "      border-left-color: var(--fill-color);\n",
              "      border-top-color: var(--fill-color);\n",
              "    }\n",
              "    30% {\n",
              "      border-color: transparent;\n",
              "      border-left-color: var(--fill-color);\n",
              "      border-top-color: var(--fill-color);\n",
              "      border-right-color: var(--fill-color);\n",
              "    }\n",
              "    40% {\n",
              "      border-color: transparent;\n",
              "      border-right-color: var(--fill-color);\n",
              "      border-top-color: var(--fill-color);\n",
              "    }\n",
              "    60% {\n",
              "      border-color: transparent;\n",
              "      border-right-color: var(--fill-color);\n",
              "    }\n",
              "    80% {\n",
              "      border-color: transparent;\n",
              "      border-right-color: var(--fill-color);\n",
              "      border-bottom-color: var(--fill-color);\n",
              "    }\n",
              "    90% {\n",
              "      border-color: transparent;\n",
              "      border-bottom-color: var(--fill-color);\n",
              "    }\n",
              "  }\n",
              "</style>\n",
              "\n",
              "      <script>\n",
              "        async function quickchart(key) {\n",
              "          const quickchartButtonEl =\n",
              "            document.querySelector('#' + key + ' button');\n",
              "          quickchartButtonEl.disabled = true;  // To prevent multiple clicks.\n",
              "          quickchartButtonEl.classList.add('colab-df-spinner');\n",
              "          try {\n",
              "            const charts = await google.colab.kernel.invokeFunction(\n",
              "                'suggestCharts', [key], {});\n",
              "          } catch (error) {\n",
              "            console.error('Error during call to suggestCharts:', error);\n",
              "          }\n",
              "          quickchartButtonEl.classList.remove('colab-df-spinner');\n",
              "          quickchartButtonEl.classList.add('colab-df-quickchart-complete');\n",
              "        }\n",
              "        (() => {\n",
              "          let quickchartButtonEl =\n",
              "            document.querySelector('#df-069b3d6a-51b1-45be-b04f-b09218662633 button');\n",
              "          quickchartButtonEl.style.display =\n",
              "            google.colab.kernel.accessAllowed ? 'block' : 'none';\n",
              "        })();\n",
              "      </script>\n",
              "    </div>\n",
              "\n",
              "    </div>\n",
              "  </div>\n"
            ],
            "text/plain": [
              "                    Team       Sport\n",
              "0     Los Angeles Lakers  Basketball\n",
              "1      Manchester United    football\n",
              "2    Toronto Maple Leafs  Ice hockey\n",
              "3  Golden State Warriors         NaN\n",
              "4   New England Patriots         NaN"
            ]
          },
          "execution_count": 41,
          "metadata": {},
          "output_type": "execute_result"
        }
      ],
      "source": [
        "# Apply direct classification to all rows\n",
        "df[\"Sport\"] = df[:3][\"Team\"].apply(classify_team_direct)\n",
        "df[[\"Team\", \"Sport\"]].head()"
      ]
    },
    {
      "cell_type": "code",
      "execution_count": null,
      "metadata": {
        "colab": {
          "base_uri": "https://localhost:8080/"
        },
        "id": "lGVJFve-i-wu",
        "outputId": "0de61289-ae5c-42e7-cf7f-ce0324d77f3e"
      },
      "outputs": [
        {
          "name": "stdout",
          "output_type": "stream",
          "text": [
            "Results saved to 'classified_teams_direct_deepseek.csv'\n"
          ]
        }
      ],
      "source": [
        "# Save the results with the new column\n",
        "df.to_csv(\"classified_teams_direct_deepseek.csv\", index=False)\n",
        "print(\"Results saved to 'classified_teams_direct_deepseek.csv'\")"
      ]
    }
  ],
  "metadata": {
    "colab": {
      "provenance": []
    },
    "kernelspec": {
      "display_name": "venv",
      "language": "python",
      "name": "python3"
    },
    "language_info": {
      "codemirror_mode": {
        "name": "ipython",
        "version": 3
      },
      "file_extension": ".py",
      "mimetype": "text/x-python",
      "name": "python",
      "nbconvert_exporter": "python",
      "pygments_lexer": "ipython3",
      "version": "3.12.7"
    }
  },
  "nbformat": 4,
  "nbformat_minor": 0
}
