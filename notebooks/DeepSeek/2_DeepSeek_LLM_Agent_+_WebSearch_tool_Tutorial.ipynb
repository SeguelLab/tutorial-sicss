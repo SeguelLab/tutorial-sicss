{
  "cells": [
    {
      "cell_type": "markdown",
      "metadata": {
        "id": "_aSZcnNA-aTQ"
      },
      "source": [
        "# Introduction to LLM Agents with LangChain and DeepSeek\n",
        "\n",
        "This notebook introduces the concept of LLM agents using the LangChain library (https://python.langchain.com/docs/introduction/). Unlike simple API calls to large language models (LLMs), agents are designed to perform more complex tasks by reasoning, planning, and using tools. In this tutorial, we will:\n",
        "\n",
        "- Explain what an LLM agent is\n",
        "- Install and set up LangChain\n",
        "- Create a simple LLM agent\n",
        "- Use the agent to perform a basic information retrieval task"
      ]
    },
    {
      "cell_type": "markdown",
      "metadata": {
        "id": "wWqNTOAK-aTR"
      },
      "source": [
        "## What is an LLM Agent?\n",
        "\n",
        "An LLM agent is a system that uses a large language model not just to generate a single response, but to decide how to solve a task using reasoning and actions. This often includes invoking external tools, running code, or making sequential decisions. LangChain provides a framework for building such agents in Python."
      ]
    },
    {
      "cell_type": "markdown",
      "metadata": {
        "id": "X0CSLg7WEB1A"
      },
      "source": [
        "# Using an LLM Agent with Internal Web Search in LangChain\n",
        "\n",
        "This notebook demonstrates how to build an LLM agent using LangChain that leverages an internal web search tool. The agent will automatically retrieve live information from the web to answer questions. We will use the Tavily API (https://www.tavily.com/), a free and easy-to-use web search integration for LangChain."
      ]
    },
    {
      "cell_type": "markdown",
      "metadata": {
        "id": "ha90hbL0EB1C"
      },
      "source": [
        "## Step 1: Install Required Packages\n",
        "\n",
        "We will install the necessary LangChain packages along with the Tavily web search integration."
      ]
    },
    {
      "cell_type": "code",
      "execution_count": 1,
      "metadata": {
        "colab": {
          "base_uri": "https://localhost:8080/"
        },
        "id": "gSXk9pv5EB1C",
        "outputId": "a8115d4b-a8d5-472d-fc61-6f59876d1f0a"
      },
      "outputs": [
        {
          "name": "stdout",
          "output_type": "stream",
          "text": [
            "\u001b[?25l   \u001b[90m━━━━━━━━━━━━━━━━━━━━━━━━━━━━━━━━━━━━━━━━\u001b[0m \u001b[32m0.0/64.5 kB\u001b[0m \u001b[31m?\u001b[0m eta \u001b[36m-:--:--\u001b[0m\r\u001b[2K   \u001b[90m━━━━━━━━━━━━━━━━━━━━━━━━━━━━━━━━━━━━━━━━\u001b[0m \u001b[32m64.5/64.5 kB\u001b[0m \u001b[31m3.3 MB/s\u001b[0m eta \u001b[36m0:00:00\u001b[0m\n",
            "\u001b[2K   \u001b[90m━━━━━━━━━━━━━━━━━━━━━━━━━━━━━━━━━━━━━━━━\u001b[0m \u001b[32m2.5/2.5 MB\u001b[0m \u001b[31m13.0 MB/s\u001b[0m eta \u001b[36m0:00:00\u001b[0m\n",
            "\u001b[2K   \u001b[90m━━━━━━━━━━━━━━━━━━━━━━━━━━━━━━━━━━━━━━━━\u001b[0m \u001b[32m44.4/44.4 kB\u001b[0m \u001b[31m2.3 MB/s\u001b[0m eta \u001b[36m0:00:00\u001b[0m\n",
            "\u001b[2K   \u001b[90m━━━━━━━━━━━━━━━━━━━━━━━━━━━━━━━━━━━━━━━━\u001b[0m \u001b[32m50.9/50.9 kB\u001b[0m \u001b[31m2.0 MB/s\u001b[0m eta \u001b[36m0:00:00\u001b[0m\n",
            "\u001b[?25h"
          ]
        }
      ],
      "source": [
        "!pip install --quiet langchain_openai langchain-community tavily-python"
      ]
    },
    {
      "cell_type": "markdown",
      "metadata": {
        "id": "9E8jbOUIEB1D"
      },
      "source": [
        "## Step 2: Set Up API Keys\n",
        "\n",
        "You will need:\n",
        "- A DeepSeek API key for the LLM (Which will be stored as OPENAI_API_KEY)\n",
        "- A Tavily API key for the web search tool\n",
        "\n",
        "You can sign up for Tavily at: https://app.tavily.com/"
      ]
    },
    {
      "cell_type": "code",
      "execution_count": 2,
      "metadata": {
        "colab": {
          "base_uri": "https://localhost:8080/"
        },
        "id": "9sISRhEGEB1D",
        "outputId": "0e53ac46-1b43-48d1-d057-4fbeed87dce9"
      },
      "outputs": [
        {
          "name": "stdout",
          "output_type": "stream",
          "text": [
            "Enter your DeepSeek API key: ··········\n",
            "Enter your Tavily API key: ··········\n"
          ]
        }
      ],
      "source": [
        "import os\n",
        "import getpass\n",
        "\n",
        "os.environ[\"OPENAI_API_KEY\"] = getpass.getpass(\"Enter your DeepSeek API key: \")\n",
        "os.environ[\"TAVILY_API_KEY\"] = getpass.getpass(\"Enter your Tavily API key: \")"
      ]
    },
    {
      "cell_type": "markdown",
      "metadata": {
        "id": "OUGCYgbWEB1D"
      },
      "source": [
        "## Step 3: Create an LLM Agent with Web Search Tool\n",
        "\n",
        "We will use LangChain's `TavilySearchResults` tool and initialize an agent that can search the web to retrieve answers. In order to see the thought process of the model, we turn the verbose parameter to TRUE.\n",
        "\n",
        "Since we are using OpenAI as a wrapper for DeepSeek, we need to set the base_url so that it connects to the DeepSeek servers using the provided DeepSeek API Key (stored as OPENAI_API_KEY)"
      ]
    },
    {
      "cell_type": "code",
      "execution_count": null,
      "metadata": {
        "id": "JQB1wHFYEB1D"
      },
      "outputs": [],
      "source": [
        "from langchain_openai import ChatOpenAI\n",
        "from langchain.agents import initialize_agent, AgentType\n",
        "from langchain_tavily import TavilySearch\n",
        "\n",
        "# Initialize the LLM\n",
        "llm = ChatOpenAI(temperature=0,  base_url='https://api.deepseek.com', model='deepseek-chat')\n",
        "\n",
        "# Initialize the web search tool\n",
        "search_tool = TavilySearch(max_results=5) # return top 5(Default) search results\n",
        "search_tool.name = \"search\"  # make it simpler for the LLM to reason\n",
        "\n",
        "\n",
        "# Create the agent\n",
        "agent = initialize_agent(\n",
        "    tools=[search_tool],\n",
        "    llm=llm,\n",
        "    agent=AgentType.ZERO_SHOT_REACT_DESCRIPTION,\n",
        "    verbose=True\n",
        ")"
      ]
    },
    {
      "cell_type": "markdown",
      "metadata": {
        "id": "IRlrCYEgEB1E"
      },
      "source": [
        "## Step 4: Ask a Web Search Question\n",
        "\n",
        "Let's now test the agent by asking a question that requires a real-time search."
      ]
    },
    {
      "cell_type": "code",
      "execution_count": 7,
      "metadata": {
        "colab": {
          "base_uri": "https://localhost:8080/"
        },
        "id": "n9LezGIYEB1E",
        "outputId": "483e1113-4dac-429e-dcb4-af55c35b87f0"
      },
      "outputs": [
        {
          "name": "stdout",
          "output_type": "stream",
          "text": [
            "\n",
            "\n",
            "\u001b[1m> Entering new AgentExecutor chain...\u001b[0m\n",
            "\u001b[32;1m\u001b[1;3mI need to find out who won the NBA championship in 2022. Since this is a past event, I can use a search engine to get the accurate information.\n",
            "\n",
            "Action: search  \n",
            "Action Input: \"NBA champion 2022\"  \n",
            "\u001b[0m\n",
            "Observation: \u001b[36;1m\u001b[1;3m[{'title': 'The MOMENT the Golden State Warriors Celebrated the 2022 Title', 'url': 'https://www.youtube.com/watch?v=LZKrS20LxmU&pp=0gcJCdgAo7VqN5tD', 'content': \"Relive the moment the Golden State Warriors reached the NBA's mountaintop, and became the 2022 NBA champions.\", 'score': 0.7803451}, {'title': 'List of NBA champions | NBA.com', 'url': 'https://www.nba.com/news/history-nba-champions', 'content': '2023-24 — **Boston Celtics** def. Dallas Mavericks, 4-1\\n\\n2022-23 —**Denver Nuggets** def. Miami Heat, 4-1\\n\\n2021-22 — **Golden State Warriors** def. Boston Celtics, 4-2\\n\\n2020-21 — **Milwaukee Bucks** def. Phoenix Suns, 4-2\\n\\n2019-20 — **Los Angeles Lakers** def. Miami Heat, 4-2\\n\\n2018-19 — **Toronto Raptors** def. Golden State Warriors, 4-2\\n\\n2017-18 — **Golden State Warriors** def. Cleveland Cavaliers, 4-0\\n\\n2016-17 — **Golden State Warriors** def. Cleveland Cavaliers, 4-1', 'score': 0.7440808}, {'title': 'List of NBA champions - Wikipedia', 'url': 'https://en.wikipedia.org/wiki/List_of_NBA_champions', 'content': '| [2022](https://en.wikipedia.org/wiki/2022_NBA_Finals \"2022 NBA Finals\") | **_[Golden State Warriors](https://en.wikipedia.org/wiki/2021%E2%80%9322_Golden_State_Warriors_season \"2021–22 Golden State Warriors season\")_ (3)** (12, 7–5) | Steve Kerr | 4–2 | [Boston Celtics](https://en.wikipedia.org/wiki/2021%E2%80%9322_Boston_Celtics_season \"2021–22 Boston Celtics season\") (2) (22, 17–5) | [Ime Udoka](https://en.wikipedia.org/wiki/Ime_Udoka \"Ime Udoka\") | [Stephen [...] | 2 | [Boston Celtics](https://en.wikipedia.org/wiki/Boston_Celtics \"Boston Celtics\") vs [San Francisco/Golden State Warriors](https://en.wikipedia.org/wiki/Golden_State_Warriors \"Golden State Warriors\") | Tied, 1–1 | [1964](https://en.wikipedia.org/wiki/1964_NBA_Finals \"1964 NBA Finals\"), [2022](https://en.wikipedia.org/wiki/2022_NBA_Finals \"2022 NBA Finals\") | [...] | [2023](https://en.wikipedia.org/wiki/2023_NBA_Finals \"2023 NBA Finals\") | **_[Denver Nuggets](https://en.wikipedia.org/wiki/2022%E2%80%9323_Denver_Nuggets_season \"2022–23 Denver Nuggets season\")_ (1)** (1, 1–0) | [Michael Malone](https://en.wikipedia.org/wiki/Michael_Malone \"Michael Malone\") | 4–1 | [Miami Heat](https://en.wikipedia.org/wiki/2022%E2%80%9323_Miami_Heat_season \"2022–23 Miami Heat season\") (8) (7, 3–4) | Erik Spoelstra | [Nikola', 'score': 0.71687365}, {'title': '2022 NBA Finals - Celtics vs. Warriors - Basketball-Reference.com', 'url': 'https://www.basketball-reference.com/playoffs/2022-nba-finals-celtics-vs-warriors.html', 'content': '![Basketball-Reference.com Logo & Link to home page](https://cdn.ssref.net/req/202505152/logos/bbr-logo.svg)\\n![2022  Logo](https://cdn.ssref.net/req/202505011/tlogo/bbr/NBA-2022.png)\\n\\n[via Sports Logos.net](http://www.sportslogos.net/)\\n\\n[About logos](https://www.sports-reference.com/blog/2016/06/redesign-team-and-league-logos-courtesy-sportslogos-net/)\\n\\n# 2022 NBA Finals Celtics vs. Warriors\\n\\n**League Champion**: [Golden State Warriors](/teams/GSW/2022.html)', 'score': 0.6778372}, {'title': '2022 NBA Finals | NBA.com', 'url': 'https://www.nba.com/playoffs/2022/the-finals', 'content': \"![](https://cdn.nba.com/manage/2022/06/payton-grab.jpg)\\n\\n### Gary Payton revels in son's championship\\n\\n## GAME 6: WARRIORS 103, CELTICS 90\\n\\nGAME 6: WARRIORS 103, CELTICS 90\\n\\n![NBA Finals, Game 6: Warriors vs. Celtics](https://cdn.nba.com/manage/2022/06/Championship_Graphic_16x9.png)\\n\\n### Warriors finish off Celtics, clinch title\\n\\nGolden State secures its 4th championship in 8 years behind 34 points from Finals MVP Stephen Curry. [...] ![](https://cdn.nba.com/manage/2022/06/warriors-celebrate-game-6.jpg)\\n\\nWarriors' best moments from 2022 playoffs\\n\\n### 2022 NBA CHAMPIONS\\n\\n![Shop now: Warriors championship gear available on NBAStore.com](https://cdn.nba.com/manage/2022/06/2078_NBA_Champs_Newsletter_061022_WARR-1.jpg)\\n\\n#### Warriors championship gear available on NBAStore.com\\n\\nCelebrate in style, get the latest Golden State Warriors championship products now from NBAStore.com.\\n\\n### CHASING HISTORY [...] Led by Stephen Currys 34 points (6-11 3pt FG), seven rebounds and seven assists, the Golden State Warriors defeated the Boston Celtics in Game six, 103-90. Andrew Wiggins (18 points, six rebounds, five assists, four steals, three blocks) and Draymond Green (12 points, 12 rebounds, eight assists) added a combined 30 points for the Warriors in the victory, while Jaylen Brown tallied 34 points and seven rebounds for the Celtics. With the victory, the Warriors have secured the franchises 7th NBA\", 'score': 0.6211049}]\u001b[0m\n",
            "Thought:\u001b[32;1m\u001b[1;3mThe search results consistently indicate that the Golden State Warriors won the NBA championship in 2022 by defeating the Boston Celtics in the Finals with a series score of 4-2. \n",
            "\n",
            "Final Answer: The Golden State Warriors won the NBA championship in 2022 by defeating the Boston Celtics 4-2 in the Finals.\u001b[0m\n",
            "\n",
            "\u001b[1m> Finished chain.\u001b[0m\n",
            "Answer: {'input': 'Who won the NBA championship in 2022?', 'output': 'The Golden State Warriors won the NBA championship in 2022 by defeating the Boston Celtics 4-2 in the Finals.'}\n"
          ]
        }
      ],
      "source": [
        "question = \"Who won the NBA championship in 2022?\"\n",
        "answer = agent.invoke(question)\n",
        "print(\"Answer:\", answer)"
      ]
    },
    {
      "cell_type": "code",
      "execution_count": 8,
      "metadata": {
        "colab": {
          "base_uri": "https://localhost:8080/"
        },
        "id": "DnbeM3gAGGrE",
        "outputId": "18b71efb-572d-4528-9659-eb2de4d41c70"
      },
      "outputs": [
        {
          "name": "stdout",
          "output_type": "stream",
          "text": [
            "\n",
            "\n",
            "\u001b[1m> Entering new AgentExecutor chain...\u001b[0m\n",
            "\u001b[32;1m\u001b[1;3mTo find out who won La Liga in 2025, I need to search for the most recent and accurate information about the 2024-2025 La Liga season.\n",
            "\n",
            "Action: [search]  \n",
            "Action Input: \"Who won La Liga in the 2024-2025 season?\"  \n",
            "\u001b[0m\n",
            "Observation: [search] is not a valid tool, try one of [search].\n",
            "Thought:\u001b[32;1m\u001b[1;3mApologies for the confusion. Let me correct that and proceed with the search.\n",
            "\n",
            "Action: search  \n",
            "Action Input: \"Who won La Liga in the 2024-2025 season?\"  \n",
            "\u001b[0m\n",
            "Observation: \u001b[36;1m\u001b[1;3m[{'title': '2024–25 La Liga - Wikipedia', 'url': 'https://en.wikipedia.org/wiki/2024%E2%80%9325_La_Liga', 'content': '[La Liga](https://en.wikipedia.org/wiki/La_Liga \"La Liga\")| Season | [2024–25](https://en.wikipedia.org/wiki/2024%E2%80%9325_in_Spanish_football \"2024–25 in Spanish football\") |\\n| --- |\\n| Dates | 15 August 2024 – 25 May 2025 |\\n| Champions | [Barcelona](https://en.wikipedia.org/wiki/FC_Barcelona \"FC Barcelona\") 28th title |\\n| Relegated | [Las Palmas](https://en.wikipedia.org/wiki/UD_Las_Palmas \"UD Las Palmas\") [Valladolid](https://en.wikipedia.org/wiki/Real_Valladolid \"Real Valladolid\") | [...] 4.   **[^](https://en.wikipedia.org/wiki/2024%E2%80%9325_La_Liga#cite_ref-4)**[\"FC Barcelona crowned champions of LALIGA EA SPORTS 2024/25\"](https://www.laliga.com/en-GB/news/fc-barcelona-crowned-champions-of-laliga-ea-sports-2024-25). La Liga. 15 May 2025. Retrieved 15 May 2025. [...] On 15 May 2025, [Barcelona](https://en.wikipedia.org/wiki/FC_Barcelona \"FC Barcelona\") officially secured a 28th title with two matches to spare following a 2–0 win against [city rivals](https://en.wikipedia.org/wiki/Derbi_Barcelon%C3%AD \"Derbi Barceloní\")[Espanyol](https://en.wikipedia.org/wiki/RCD_Espanyol \"RCD Espanyol\").[[4]](https://en.wikipedia.org/wiki/2024%E2%80%9325_La_Liga#cite_note-4)\\n\\nTeams\\n-----', 'score': 0.92507464}, {'title': 'La Liga table — Final standings, leading scorers from 2024-25 season', 'url': 'https://www.nbcsports.com/soccer/news/la-liga-table-standings-leading-scorers-from-2024-25-season', 'content': 'Below, find the leading scorers for this season as well as the most recent standings.\\n\\nWho will win La Liga 2024-25?\\n-----------------------------\\n\\nBarca lead Real Madrid before the bitter rivals play in Barcelona on May 11 (and again in the _Copa del Rey_ final, for your information). [...] *   [Email](mailto:?body=La%20Liga%20table%20%E2%80%94%20Standings%2C%20leading%20scorers%20from%202024-25%20season%0A%0Ahttps%3A%2F%2Fwww.nbcsports.com%2Fsoccer%2Fnews%2Fla-liga-table-standings-leading-scorers-from-2024-25-season%0A%0ABarcelona%20are%20champions%20of%20Spain%20after%20sealing%20their%2028th%20La%20Liga%20crown%20by%20backing%20up%20an%20El%20Clasico%20win%20with%20a%20Barcelona%20derby%20clean%20sheet.) [...] Link https://www.nbcsports.com/watch/soccer/premier-league/newcastle-get-season-defining-win-against-chelsea\\n\\nCopied\\n\\nLive\\n\\n00:00\\n\\n02:04\\n\\n02:04\\n\\nThis video file cannot be played.(Error Code:232011)\\n\\nBarcelona are champions of Spain after sealing their 28th La Liga crown by backing up an _El Clasico win_ with a Barcelona derby clean sheet.', 'score': 0.8849276}, {'title': 'LaLiga 2024-25 awards: Year of Yamal as Barcelona dominate', 'url': 'https://www.espn.com/soccer/story/_/id/45332593/laliga-2024-25-awards-year-lamine-yamal-barcelona-dominate', 'content': 'This is the one where there\\'s no competition, but a plethora of explanations. Hans-Dieter \"Hansi\" Flick is the hands-down winner, and not simply because he has won LaLiga in blistering style during his first season in charge of Barcelona -- and, in doing so, becoming only the second German (following Bernd Schuster) to win Spain\\'s top division. [...] _**Runners-up:** Athletic Club, Real Betis, Villarreal, Rayo Vallecano_\\n\\n![Image 67](https://www.espn.com/soccer/story/_/id/45332593/laliga-2024-25-awards-year-lamine-yamal-barcelona-dominate)\\n\\nJust two years after winning the Europa League, Sevilla finished a single point above LaLiga\\'s relegation zone in 2024-25.Joaquin Corchero/Europa Press via Getty Images [...] _**Runners-up:** Manuel Pellegrini (Real Betis),_ _Carlos Corberán (Valencia)_', 'score': 0.8533396}]\u001b[0m\n",
            "Thought:\u001b[32;1m\u001b[1;3mBased on the search results, FC Barcelona won the La Liga title in the 2024-2025 season, securing their 28th title. \n",
            "\n",
            "Final Answer: FC Barcelona won La Liga in the 2024-2025 season.\u001b[0m\n",
            "\n",
            "\u001b[1m> Finished chain.\u001b[0m\n",
            "Answer: {'input': 'Who won the la liga in 2025?', 'output': 'FC Barcelona won La Liga in the 2024-2025 season.'}\n"
          ]
        }
      ],
      "source": [
        "question = \"Who won the la liga in 2025?\"\n",
        "answer = agent.invoke(question)\n",
        "print(\"Answer:\", answer)"
      ]
    },
    {
      "cell_type": "markdown",
      "metadata": {
        "id": "1mzlaEzEEB1E"
      },
      "source": [
        "## Summary\n",
        "\n",
        "In this notebook, we used LangChain with a live web search tool to build a question-answering agent. The Tavily API enables the LLM to fetch current or factual information from the web before generating a response. This is useful for tasks that require up-to-date knowledge or information not stored within the model itself."
      ]
    }
  ],
  "metadata": {
    "colab": {
      "provenance": []
    },
    "kernelspec": {
      "display_name": "venv",
      "language": "python",
      "name": "python3"
    },
    "language_info": {
      "codemirror_mode": {
        "name": "ipython",
        "version": 3
      },
      "file_extension": ".py",
      "mimetype": "text/x-python",
      "name": "python",
      "nbconvert_exporter": "python",
      "pygments_lexer": "ipython3",
      "version": "3.12.7"
    }
  },
  "nbformat": 4,
  "nbformat_minor": 0
}
