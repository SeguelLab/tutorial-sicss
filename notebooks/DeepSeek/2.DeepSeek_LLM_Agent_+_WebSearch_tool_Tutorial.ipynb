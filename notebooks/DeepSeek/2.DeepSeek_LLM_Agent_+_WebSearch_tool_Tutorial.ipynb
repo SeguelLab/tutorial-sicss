{
  "cells": [
    {
      "cell_type": "markdown",
      "metadata": {
        "id": "_aSZcnNA-aTQ"
      },
      "source": [
        "# Introduction to LLM Agents with LangChain and DeepSeek\n",
        "\n",
        "This notebook introduces the concept of LLM agents using the LangChain library (https://python.langchain.com/docs/introduction/). Unlike simple API calls to large language models (LLMs), agents are designed to perform more complex tasks by reasoning, planning, and using tools. In this tutorial, we will:\n",
        "\n",
        "- Explain what an LLM agent is\n",
        "- Install and set up LangChain\n",
        "- Create a simple LLM agent\n",
        "- Use the agent to perform a basic information retrieval task"
      ]
    },
    {
      "cell_type": "markdown",
      "metadata": {
        "id": "wWqNTOAK-aTR"
      },
      "source": [
        "## What is an LLM Agent?\n",
        "\n",
        "An LLM agent is a system that uses a large language model not just to generate a single response, but to decide how to solve a task using reasoning and actions. This often includes invoking external tools, running code, or making sequential decisions. LangChain provides a framework for building such agents in Python."
      ]
    },
    {
      "cell_type": "markdown",
      "metadata": {
        "id": "X0CSLg7WEB1A"
      },
      "source": [
        "# Using an LLM Agent with Internal Web Search in LangChain\n",
        "\n",
        "This notebook demonstrates how to build an LLM agent using LangChain that leverages an internal web search tool. The agent will automatically retrieve live information from the web to answer questions. We will use the Tavily API (https://www.tavily.com/), a free and easy-to-use web search integration for LangChain."
      ]
    },
    {
      "cell_type": "markdown",
      "metadata": {
        "id": "ha90hbL0EB1C"
      },
      "source": [
        "## Step 1: Install Required Packages\n",
        "\n",
        "We will install the necessary LangChain packages along with the Tavily web search integration."
      ]
    },
    {
      "cell_type": "code",
      "execution_count": 1,
      "metadata": {
        "colab": {
          "base_uri": "https://localhost:8080/"
        },
        "id": "gSXk9pv5EB1C",
        "outputId": "2cc0eee9-96c2-4307-8dfb-52a660370d80"
      },
      "outputs": [],
      "source": [
        "!pip install --quiet langchain_openai langchain-community tavily-python"
      ]
    },
    {
      "cell_type": "markdown",
      "metadata": {
        "id": "9E8jbOUIEB1D"
      },
      "source": [
        "## Step 2: Set Up API Keys\n",
        "\n",
        "You will need:\n",
        "- A DeepSeek API key for the LLM (Which will be stored as OPENAI_API_KEY)\n",
        "- A Tavily API key for the web search tool\n",
        "\n",
        "You can sign up for Tavily at: https://app.tavily.com/"
      ]
    },
    {
      "cell_type": "code",
      "execution_count": 12,
      "metadata": {
        "colab": {
          "base_uri": "https://localhost:8080/"
        },
        "id": "9sISRhEGEB1D",
        "outputId": "6501ca33-02e5-4c25-fadb-0140760b4301"
      },
      "outputs": [],
      "source": [
        "import os\n",
        "import getpass\n",
        "\n",
        "os.environ[\"OPENAI_API_KEY\"] = getpass.getpass(\"Enter your DeepSeek API key: \")\n",
        "os.environ[\"TAVILY_API_KEY\"] = getpass.getpass(\"Enter your Tavily API key: \")"
      ]
    },
    {
      "cell_type": "markdown",
      "metadata": {
        "id": "OUGCYgbWEB1D"
      },
      "source": [
        "## Step 3: Create an LLM Agent with Web Search Tool\n",
        "\n",
        "We will use LangChain's `TavilySearchResults` tool and initialize an agent that can search the web to retrieve answers. In order to see the thought process of the model, we turn the verbose parameter to TRUE.\n",
        "\n",
        "Since we are using OpenAI as a wrapper for DeepSeek, we need to set the base_url so that it connects to the DeepSeek servers using the provided DeepSeek API Key (stored as OPENAI_API_KEY)"
      ]
    },
    {
      "cell_type": "code",
      "execution_count": 13,
      "metadata": {
        "colab": {
          "base_uri": "https://localhost:8080/"
        },
        "id": "JQB1wHFYEB1D",
        "outputId": "b7b8433a-cfee-4c1a-fe42-31c9a563719b"
      },
      "outputs": [],
      "source": [
        "from langchain_openai import ChatOpenAI\n",
        "from langchain.agents import initialize_agent, AgentType\n",
        "from langchain_community.tools import TavilySearchResults\n",
        "\n",
        "# Initialize the LLM\n",
        "llm = ChatOpenAI(temperature=0,  base_url='https://api.deepseek.com', model='deepseek-chat')\n",
        "\n",
        "# Initialize the web search tool\n",
        "search_tool = TavilySearchResults(k=3) #k means top-k results, so return top 3 results.\n",
        "\n",
        "# Create the agent\n",
        "agent = initialize_agent(\n",
        "    tools=[search_tool],\n",
        "    llm=llm,\n",
        "    agent=AgentType.ZERO_SHOT_REACT_DESCRIPTION,\n",
        "    verbose=True\n",
        ")"
      ]
    },
    {
      "cell_type": "markdown",
      "metadata": {
        "id": "IRlrCYEgEB1E"
      },
      "source": [
        "## Step 4: Ask a Web Search Question\n",
        "\n",
        "Let's now test the agent by asking a question that requires a real-time search."
      ]
    },
    {
      "cell_type": "code",
      "execution_count": 14,
      "metadata": {
        "colab": {
          "base_uri": "https://localhost:8080/"
        },
        "id": "n9LezGIYEB1E",
        "outputId": "81d97e7a-1d9a-4c6e-9703-ea9b498df44d"
      },
      "outputs": [
        {
          "name": "stdout",
          "output_type": "stream",
          "text": [
            "\n",
            "\n",
            "\u001b[1m> Entering new AgentExecutor chain...\u001b[0m\n",
            "\u001b[32;1m\u001b[1;3mTo find out who won the NBA championship in 2022, I should use a search engine to get the most accurate and up-to-date information. \n",
            "\n",
            "Action: [tavily_search_results_json]  \n",
            "Action Input: \"NBA championship winner 2022\"  \n",
            "\u001b[0m\n",
            "Observation: [tavily_search_results_json] is not a valid tool, try one of [tavily_search_results_json].\n",
            "Thought:\u001b[32;1m\u001b[1;3mIt seems there was a misunderstanding in the tool name. Let me correct that and perform the search again.\n",
            "\n",
            "Action: tavily_search_results_json  \n",
            "Action Input: \"NBA championship winner 2022\"  \n",
            "\u001b[0m\n",
            "Observation: \u001b[36;1m\u001b[1;3m[{'title': 'The MOMENT the Golden State Warriors Celebrated the 2022 Title', 'url': 'https://www.youtube.com/watch?v=LZKrS20LxmU', 'content': \"Relive the moment the Golden State Warriors reached the NBA's mountaintop, and became the 2022 NBA champions.\", 'score': 0.75464433}, {'title': 'List of NBA champions | NBA.com', 'url': 'https://www.nba.com/news/history-nba-champions', 'content': '2023-24 — **Boston Celtics** def. Dallas Mavericks, 4-1\\n\\n2022-23 —**Denver Nuggets** def. Miami Heat, 4-1\\n\\n2021-22 — **Golden State Warriors** def. Boston Celtics, 4-2\\n\\n2020-21 — **Milwaukee Bucks** def. Phoenix Suns, 4-2\\n\\n2019-20 — **Los Angeles Lakers** def. Miami Heat, 4-2\\n\\n2018-19 — **Toronto Raptors** def. Golden State Warriors, 4-2\\n\\n2017-18 — **Golden State Warriors** def. Cleveland Cavaliers, 4-0\\n\\n2016-17 — **Golden State Warriors** def. Cleveland Cavaliers, 4-1', 'score': 0.7463059}, {'title': 'NBA Champions by Year: Complete list of NBA Finals winners', 'url': 'https://www.foxsports.com/stories/nba/nba-champions-by-year-complete-list-of-nba-finals-winners', 'content': '**2024**: Boston Celtics defeated Dallas Mavericks (4-1)  \\n**2023**: Denver Nuggets defeated Miami Heat (4-1)  \\n**2022:** Golden State Warriors defeated Boston Celtics (4-2)  \\n**2021:** [Milwaukee Bucks](https://www.foxsports.com/nba/milwaukee-bucks-team) defeated [Phoenix Suns](https://www.foxsports.com/nba/phoenix-suns-team) (4-2)  \\n**2020:** Los Angeles Lakers defeated Miami Heat (4-2)', 'score': 0.69845337}, {'title': 'The Last 10 NBA Finals Champions [Video Recaps]', 'url': 'https://blog.ticketmaster.com/nba-finals-winners/', 'content': '| Year | Result | Western Champion | Eastern Champion |  |  |\\n| --- | --- | --- | --- | --- | --- |\\n| 2024 | 4-1 | Dallas Mavericks | Boston Celtics |  |  |\\n| 2023 | 4-1 | Denver Nuggets | Miami Heat |  |  |\\n| 2022 | 4–2 | Golden State Warriors | Boston Celtics |  |  |\\n| 2021 | 2–4 | Phoenix Suns | Milwaukee Bucks |  |  |\\n| 2020 | 4–2 | Los Angeles Lakers | Miami Heat |  |  |\\n| 2019 | 2–4 | Golden State Warriors | Toronto Raptors |  |  | [...] ## 2022–23 NBA Finals Champions: Denver Nuggets', 'score': 0.6917478}, {'title': '2022 NBA Finals | NBA.com', 'url': 'https://www.nba.com/playoffs/2022/the-finals', 'content': \"![](https://cdn.nba.com/manage/2022/06/payton-grab.jpg)\\n\\n### Gary Payton revels in son's championship\\n\\n## GAME 6: WARRIORS 103, CELTICS 90\\n\\nGAME 6: WARRIORS 103, CELTICS 90\\n\\n![NBA Finals, Game 6: Warriors vs. Celtics](https://cdn.nba.com/manage/2022/06/Championship_Graphic_16x9.png)\\n\\n### Warriors finish off Celtics, clinch title\\n\\nGolden State secures its 4th championship in 8 years behind 34 points from Finals MVP Stephen Curry. [...] ![6 takeaways from the Warriors' 2022 NBA Finals-clinching win over the Celtics](https://cdn.nba.com/manage/2022/06/stephen-curry-celebrates-finals-mvp.jpg)\\n\\n#### 6 takeaways from Warriors' championship victory\\n\\nGolden State looks flawless in clincher, Stephen Curry's legacy continues to grow and Jayson Tatum isn't quite at superstar status after a rough NBA Finals.\\n\\n![Draymond Green's familiar energy, defense help Warriors win 2022 title](https://cdn.nba.com/manage/2022/06/green061622.jpg) [...] Led by Stephen Currys 34 points (6-11 3pt FG), seven rebounds and seven assists, the Golden State Warriors defeated the Boston Celtics in Game six, 103-90. Andrew Wiggins (18 points, six rebounds, five assists, four steals, three blocks) and Draymond Green (12 points, 12 rebounds, eight assists) added a combined 30 points for the Warriors in the victory, while Jaylen Brown tallied 34 points and seven rebounds for the Celtics. With the victory, the Warriors have secured the franchises 7th NBA\", 'score': 0.67885995}]\u001b[0m\n",
            "Thought:\u001b[32;1m\u001b[1;3mThe search results consistently indicate that the Golden State Warriors won the NBA championship in 2022 by defeating the Boston Celtics in the Finals with a series score of 4-2. \n",
            "\n",
            "Final Answer: The Golden State Warriors won the NBA championship in 2022 by defeating the Boston Celtics 4-2 in the Finals.\u001b[0m\n",
            "\n",
            "\u001b[1m> Finished chain.\u001b[0m\n",
            "Answer: The Golden State Warriors won the NBA championship in 2022 by defeating the Boston Celtics 4-2 in the Finals.\n"
          ]
        }
      ],
      "source": [
        "question = \"Who won the NBA championship in 2022?\"\n",
        "answer = agent.run(question)\n",
        "print(\"Answer:\", answer)"
      ]
    },
    {
      "cell_type": "code",
      "execution_count": 15,
      "metadata": {
        "colab": {
          "base_uri": "https://localhost:8080/"
        },
        "id": "DnbeM3gAGGrE",
        "outputId": "4437e7a9-af3d-4716-eda3-2dae119bd0b9"
      },
      "outputs": [
        {
          "name": "stdout",
          "output_type": "stream",
          "text": [
            "\n",
            "\n",
            "\u001b[1m> Entering new AgentExecutor chain...\u001b[0m\n",
            "\u001b[32;1m\u001b[1;3mTo find out who won La Liga in 2025, I need to search for the most recent and reliable information about the 2024-2025 La Liga season. \n",
            "\n",
            "Action: [tavily_search_results_json]  \n",
            "Action Input: \"La Liga 2024-2025 winner\"  \n",
            "\u001b[0m\n",
            "Observation: [tavily_search_results_json] is not a valid tool, try one of [tavily_search_results_json].\n",
            "Thought:\u001b[32;1m\u001b[1;3mIt seems there was a misunderstanding in the tool name. Let me correct that and perform the search again.\n",
            "\n",
            "Action: tavily_search_results_json  \n",
            "Action Input: \"La Liga 2024-2025 winner\"  \n",
            "\u001b[0m\n",
            "Observation: \u001b[36;1m\u001b[1;3m[{'title': '2024–25 La Liga - Wikipedia', 'url': 'https://en.wikipedia.org/wiki/2024%E2%80%9325_La_Liga', 'content': '[La Liga](https://en.wikipedia.org/wiki/La_Liga \"La Liga\")| Season | [2024–25](https://en.wikipedia.org/wiki/2024%E2%80%9325_in_Spanish_football \"2024–25 in Spanish football\") |\\n| --- |\\n| Dates | 15 August 2024 – 25 May 2025 |\\n| Champions | [Barcelona](https://en.wikipedia.org/wiki/FC_Barcelona \"FC Barcelona\") 28th title |\\n| Relegated | [Las Palmas](https://en.wikipedia.org/wiki/UD_Las_Palmas \"UD Las Palmas\") [Valladolid](https://en.wikipedia.org/wiki/Real_Valladolid \"Real Valladolid\") | [...] 4.   **[^](https://en.wikipedia.org/wiki/2024%E2%80%9325_La_Liga#cite_ref-4)**[\"FC Barcelona crowned champions of LALIGA EA SPORTS 2024/25\"](https://www.laliga.com/en-GB/news/fc-barcelona-crowned-champions-of-laliga-ea-sports-2024-25). La Liga. 15 May 2025. Retrieved 15 May 2025. [...] The **2024–25 La Liga**, also known as **La Liga EA Sports**[[1]](https://en.wikipedia.org/wiki/2024%E2%80%9325_La_Liga#cite_note-1)[[2]](https://en.wikipedia.org/wiki/2024%E2%80%9325_La_Liga#cite_note-2) due to sponsorship reasons, is the 94th season of [La Liga](https://en.wikipedia.org/wiki/La_Liga \"La Liga\"), Spain\\'s premier football competition. It commenced on 15 August 2024 and is scheduled to conclude on 25 May 2025. [Real Madrid](https://en.wikipedia.org/wiki/Real_Madrid_CF \"Real', 'score': 0.8700796}, {'title': 'LaLiga 2024-25 awards: Year of Yamal as Barcelona dominate', 'url': 'https://www.espn.com/soccer/story/_/id/45332593/laliga-2024-25-awards-year-lamine-yamal-barcelona-dominate', 'content': 'This is the one where there\\'s no competition, but a plethora of explanations. Hans-Dieter \"Hansi\" Flick is the hands-down winner, and not simply because he has won LaLiga in blistering style during his first season in charge of Barcelona -- and, in doing so, becoming only the second German (following Bernd Schuster) to win Spain\\'s top division. [...] _**Runners-up:** Athletic Club, Real Betis, Villarreal, Rayo Vallecano_\\n\\n![Image 67](https://www.espn.com/soccer/story/_/id/45332593/laliga-2024-25-awards-year-lamine-yamal-barcelona-dominate)\\n\\nJust two years after winning the Europa League, Sevilla finished a single point above LaLiga\\'s relegation zone in 2024-25.Joaquin Corchero/Europa Press via Getty Images [...] _**Runners-up:** Manuel Pellegrini (Real Betis),_ _Carlos Corberán (Valencia)_', 'score': 0.8252664}, {'title': 'Hansi Flick, Best Coach in LALIGA EA SPORTS 2024/2025', 'url': 'https://www.laliga.com/en-GB/news/hansi-flick-best-coach-in-laliga-ea-sports-2024-2025', 'content': \"The Azulgrana side has ended a **great campaign** under the German coach after being crowned LALIGA EA SPORTS 2024/2025 champions with a stunning display of character and a recognisable style of play. They have lost only six of the 38 matches played in the competition and, in addition, **have scored 102 goals**, the highest number of goals scored in the five major leagues this year. But that's not all: thanks to this figure, they have become the highest-scoring team in the history of the [...] # Hansi Flick, Best Coach in LALIGA EA SPORTS 2024/2025\\n\\nThe FC Barcelona coach wins the award after a great season for the Catalan club, who were crowned champions.\\n\\nPrizes\\n\\nLUN 02.06.2025\\n\\n**Hansi Flick** has been named **Best Coach of LALIGA EA SPORTS 2024/2025**, an award presented by LALIGA in partnership with **Microsoft**. FC Barcelona has had an exceptional season, winning the title with 88 points.\", 'score': 0.7997713}, {'title': 'La Liga table — Final standings, leading scorers from 2024-25 season', 'url': 'https://www.nbcsports.com/soccer/news/la-liga-table-standings-leading-scorers-from-2024-25-season', 'content': '*   [Email](mailto:?body=La%20Liga%20table%20%E2%80%94%20Standings%2C%20leading%20scorers%20from%202024-25%20season%0A%0Ahttps%3A%2F%2Fwww.nbcsports.com%2Fsoccer%2Fnews%2Fla-liga-table-standings-leading-scorers-from-2024-25-season%0A%0ABarcelona%20are%20champions%20of%20Spain%20after%20sealing%20their%2028th%20La%20Liga%20crown%20by%20backing%20up%20an%20El%20Clasico%20win%20with%20a%20Barcelona%20derby%20clean%20sheet.)', 'score': 0.73981786}, {'title': 'LaLiga 2024-2025 Final Standings. : r/Barca - Reddit', 'url': 'https://www.reddit.com/r/Barca/comments/1kve94k/laliga_20242025_final_standings/', 'content': '*   [FC Barcelona are the 2024/25 La Liga Champions](https://www.reddit.com/r/Barca/comments/1knjy7e/fc_barcelona_are_the_202425_la_liga_champions/)[![Image 44: r/Barca icon](https://styles.redditmedia.com/t5_2s561/styles/communityIcon_dzjep1on4lfe1.jpg?width=48&height=48&frame=1&auto=webp&crop=48:48,smart&s=131c8add72509a703d2603866fb6c8ec2268d2fb) r/Barca](https://www.reddit.com/r/Barca)•10 days ago ![Image 45: A banner for the [...] * * *\\n\\n216K Members Online    [### FC Barcelona are the 2024/25 La Liga Champions](https://www.reddit.com/r/Barca/comments/1knjy7e/fc_barcelona_are_the_202425_la_liga_champions/)  [![Image 47: r/Barca - FC Barcelona are the 2024/25 La Liga Champions](https://b.thumbs.redditmedia.com/58yvffwJ3SkVGOumI7Qf2--ygclwV2RLMWTBGMoXwxM.jpg)](https://www.reddit.com/r/Barca/comments/1knjy7e/fc_barcelona_are_the_202425_la_liga_champions/)   3.6K upvotes ·158 comments   \\n\\n* * *', 'score': 0.73914057}]\u001b[0m\n",
            "Thought:\u001b[32;1m\u001b[1;3mBased on the search results, FC Barcelona won the 2024-2025 La Liga season, securing their 28th title. \n",
            "\n",
            "Final Answer: FC Barcelona won La Liga in 2025.\u001b[0m\n",
            "\n",
            "\u001b[1m> Finished chain.\u001b[0m\n",
            "Answer: FC Barcelona won La Liga in 2025.\n"
          ]
        }
      ],
      "source": [
        "question = \"Who won the la liga in 2025?\"\n",
        "answer = agent.run(question)\n",
        "print(\"Answer:\", answer)"
      ]
    },
    {
      "cell_type": "markdown",
      "metadata": {
        "id": "1mzlaEzEEB1E"
      },
      "source": [
        "## Summary\n",
        "\n",
        "In this notebook, we used LangChain with a live web search tool to build a question-answering agent. The Tavily API enables the LLM to fetch current or factual information from the web before generating a response. This is useful for tasks that require up-to-date knowledge or information not stored within the model itself."
      ]
    }
  ],
  "metadata": {
    "colab": {
      "provenance": []
    },
    "kernelspec": {
      "display_name": "venv",
      "language": "python",
      "name": "python3"
    },
    "language_info": {
      "codemirror_mode": {
        "name": "ipython",
        "version": 3
      },
      "file_extension": ".py",
      "mimetype": "text/x-python",
      "name": "python",
      "nbconvert_exporter": "python",
      "pygments_lexer": "ipython3",
      "version": "3.12.7"
    }
  },
  "nbformat": 4,
  "nbformat_minor": 0
}
