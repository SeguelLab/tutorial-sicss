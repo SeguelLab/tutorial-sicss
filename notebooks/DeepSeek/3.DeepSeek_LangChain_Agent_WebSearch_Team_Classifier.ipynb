{
  "cells": [
    {
      "cell_type": "markdown",
      "metadata": {
        "id": "GMrpGw3WjvmS"
      },
      "source": [
        "# Using an LLM Agent with Web Search and DeepSeek to Classify Sports Teams from a CSV File\n",
        "\n",
        "This notebook demonstrates how to use a LangChain-based LLM agent with a web search tool to classify sports teams listed in a CSV file. Each row in the CSV contains a team name. The agent will use real-time web search to determine the sport associated with each team and add a corresponding label."
      ]
    },
    {
      "cell_type": "markdown",
      "metadata": {
        "id": "zQQ89jNCjvmV"
      },
      "source": [
        "## Step 1: Install Required Packages\n",
        "\n",
        "We will use the LangChain framework, OpenAI for LLM access, and the Tavily web search integration. Pandas will be used to work with CSV files."
      ]
    },
    {
      "cell_type": "code",
      "execution_count": 1,
      "metadata": {
        "colab": {
          "base_uri": "https://localhost:8080/"
        },
        "id": "KeP6ajXRjvmW",
        "outputId": "9012add6-ca4b-42ae-fdec-fc620df37171"
      },
      "outputs": [],
      "source": [
        "!pip install --quiet langchain_openai pandas tavily-python langchain-community"
      ]
    },
    {
      "cell_type": "markdown",
      "metadata": {
        "id": "i64GqbNDjvmW"
      },
      "source": [
        "## Step 2: Set Up API Keys\n",
        "\n",
        "You will need:\n",
        "- A DeepSeek API Key\n",
        "- A Tavily API key (sign up at https://app.tavily.com/)\n",
        "\n",
        "These are required to access the LLM and the web search service."
      ]
    },
    {
      "cell_type": "markdown",
      "metadata": {
        "id": "3ezs0ojfkyEx"
      },
      "source": [
        "tavily:\n",
        "\n",
        "> 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\n",
        "\n",
        "\n"
      ]
    },
    {
      "cell_type": "code",
      "execution_count": 2,
      "metadata": {
        "colab": {
          "base_uri": "https://localhost:8080/"
        },
        "id": "iDX9Sd2YjvmX",
        "outputId": "93c6a10f-f66e-49ce-bd0e-7747096faefe"
      },
      "outputs": [],
      "source": [
        "import os\n",
        "import getpass\n",
        "\n",
        "os.environ[\"OPENAI_API_KEY\"] = getpass.getpass(\"Enter your DeepSeek API key: \")\n",
        "os.environ[\"TAVILY_API_KEY\"] = getpass.getpass(\"Enter your Tavily API key: \")"
      ]
    },
    {
      "cell_type": "markdown",
      "metadata": {
        "id": "qPznjeXYjvmX"
      },
      "source": [
        "## Step 3: Initialize the Agent with Web Search Tool\n",
        "\n",
        "We will set up an LLM agent with the Tavily web search tool. The agent will decide when to invoke the search tool to classify each team."
      ]
    },
    {
      "cell_type": "code",
      "execution_count": 15,
      "metadata": {
        "colab": {
          "base_uri": "https://localhost:8080/"
        },
        "id": "jx5ZvGIejvmX",
        "outputId": "fdf90fb2-757c-4ccd-badf-394344127bac"
      },
      "outputs": [],
      "source": [
        "from langchain_openai import ChatOpenAI\n",
        "from langchain.agents import initialize_agent, AgentType\n",
        "from langchain_community.tools.tavily_search import TavilySearchResults\n",
        "\n",
        "# Initialize model and tools\n",
        "llm = ChatOpenAI(temperature=0,\n",
        "                 base_url=\"https://api.deepseek.com\",\n",
        "                 model='deepseek-chat')\n",
        "search_tool = TavilySearchResults(k=3)\n",
        "agent = initialize_agent([search_tool], llm, agent=AgentType.ZERO_SHOT_REACT_DESCRIPTION, verbose=True,\n",
        "                         handle_parsing_errors=True)"
      ]
    },
    {
      "cell_type": "markdown",
      "metadata": {
        "id": "l8R7e7h_jvmY"
      },
      "source": [
        "## Step 4: Load the CSV File\n",
        "\n",
        "We load the CSV file that contains the names of sports teams. Each row has one team name under a column named 'Team'."
      ]
    },
    {
      "cell_type": "code",
      "execution_count": 16,
      "metadata": {
        "colab": {
          "base_uri": "https://localhost:8080/",
          "height": 206
        },
        "id": "ZRDToyKUjvmY",
        "outputId": "69ad3e3a-45c7-42cb-e5e1-688506fe57fe"
      },
      "outputs": [
        {
          "data": {
            "text/html": [
              "<div>\n",
              "<style scoped>\n",
              "    .dataframe tbody tr th:only-of-type {\n",
              "        vertical-align: middle;\n",
              "    }\n",
              "\n",
              "    .dataframe tbody tr th {\n",
              "        vertical-align: top;\n",
              "    }\n",
              "\n",
              "    .dataframe thead th {\n",
              "        text-align: right;\n",
              "    }\n",
              "</style>\n",
              "<table border=\"1\" class=\"dataframe\">\n",
              "  <thead>\n",
              "    <tr style=\"text-align: right;\">\n",
              "      <th></th>\n",
              "      <th>Team</th>\n",
              "      <th>Country</th>\n",
              "      <th>City</th>\n",
              "      <th>Stadium Capacity</th>\n",
              "    </tr>\n",
              "  </thead>\n",
              "  <tbody>\n",
              "    <tr>\n",
              "      <th>0</th>\n",
              "      <td>Los Angeles Lakers</td>\n",
              "      <td>USA</td>\n",
              "      <td>Los Angeles</td>\n",
              "      <td>19000</td>\n",
              "    </tr>\n",
              "    <tr>\n",
              "      <th>1</th>\n",
              "      <td>Manchester United</td>\n",
              "      <td>UK</td>\n",
              "      <td>Manchester</td>\n",
              "      <td>74000</td>\n",
              "    </tr>\n",
              "    <tr>\n",
              "      <th>2</th>\n",
              "      <td>Toronto Maple Leafs</td>\n",
              "      <td>Canada</td>\n",
              "      <td>Toronto</td>\n",
              "      <td>18600</td>\n",
              "    </tr>\n",
              "    <tr>\n",
              "      <th>3</th>\n",
              "      <td>Golden State Warriors</td>\n",
              "      <td>USA</td>\n",
              "      <td>San Francisco</td>\n",
              "      <td>19500</td>\n",
              "    </tr>\n",
              "    <tr>\n",
              "      <th>4</th>\n",
              "      <td>New England Patriots</td>\n",
              "      <td>USA</td>\n",
              "      <td>Boston</td>\n",
              "      <td>65878</td>\n",
              "    </tr>\n",
              "  </tbody>\n",
              "</table>\n",
              "</div>"
            ],
            "text/plain": [
              "                    Team Country           City  Stadium Capacity\n",
              "0     Los Angeles Lakers     USA    Los Angeles             19000\n",
              "1      Manchester United      UK     Manchester             74000\n",
              "2    Toronto Maple Leafs  Canada        Toronto             18600\n",
              "3  Golden State Warriors     USA  San Francisco             19500\n",
              "4   New England Patriots     USA         Boston             65878"
            ]
          },
          "metadata": {},
          "output_type": "display_data"
        }
      ],
      "source": [
        "import pandas as pd\n",
        "from IPython.display import display\n",
        "\n",
        "# Path to your CSV file\n",
        "data_path = \"../../data/sports_teams.csv\"\n",
        "if os.path.exists(data_path):\n",
        "    df = pd.read_csv(data_path)\n",
        "    display(df.head())\n",
        "else:\n",
        "    try:\n",
        "        csv_path = \"sports_teams.csv\"\n",
        "        df = pd.read_csv(csv_path)\n",
        "        display(df.head())\n",
        "    except Exception as e:\n",
        "        print(f\"{e}\\nThe CSV file should be in the same directory as the notebook, or you must be running the code locally using git clone.\")"
      ]
    },
    {
      "cell_type": "markdown",
      "metadata": {
        "id": "7lBovPfXjvmY"
      },
      "source": [
        "## Step 5: Classify Each Team Using the Agent\n",
        "\n",
        "The agent will search the web and respond with the sport that each team plays. We apply this to each team in the dataset."
      ]
    },
    {
      "cell_type": "code",
      "execution_count": 17,
      "metadata": {
        "colab": {
          "base_uri": "https://localhost:8080/",
          "height": 451
        },
        "collapsed": true,
        "id": "FpQSj2CpjvmY",
        "outputId": "d9892941-9a02-4c8e-b404-9e04c5ff6389"
      },
      "outputs": [
        {
          "name": "stdout",
          "output_type": "stream",
          "text": [
            "\n",
            "\n",
            "\u001b[1m> Entering new AgentExecutor chain...\u001b[0m\n",
            "\u001b[32;1m\u001b[1;3mThought: The Los Angeles Lakers are a well-known professional sports team, and I need to determine which sport they are most famous for playing. Since they are based in Los Angeles, they are likely part of a major U.S. sports league.\n",
            "\n",
            "Action: tavily_search_results_json  \n",
            "Action Input: \"What sport do the Los Angeles Lakers play?\"\n",
            "\u001b[0m\n",
            "Observation: \u001b[36;1m\u001b[1;3m[{'title': 'Los Angeles Lakers Historical Statistics and All-Time Top Leaders', 'url': 'https://www.basketball-reference.com/teams/LAL/', 'content': '*   [Basketball](https://www.basketball-reference.com/?utm_source=bbr&utm_medium=sr_xsite&utm_campaign=2023_01_srnav) [(college)](https://www.sports-reference.com/cbb/)\\n*   [Hockey](https://www.hockey-reference.com/?utm_source=bbr&utm_medium=sr_xsite&utm_campaign=2023_01_srnav)\\n*   [Soccer](https://fbref.com/en/?utm_source=bbr&utm_medium=sr_xsite&utm_campaign=2023_01_srnav)\\n*   [Blog](https://www.sports-reference.com/blog/?utm_source=bbr&utm_medium=sr_xsite&utm_campaign=2023_01_srnav) [...] *   [Basketball](https://www.basketball-reference.com/?utm_source=bbr&utm_medium=sr_xsite&utm_campaign=2023_01_srnav_footer) [(college)](https://www.sports-reference.com/cbb/)\\n*   [Hockey](https://www.hockey-reference.com/?utm_source=bbr&utm_medium=sr_xsite&utm_campaign=2023_01_srnav_footer)\\n*   [Football](https://fbref.com/fr/?utm_source=bbr&utm_medium=sr_xsite&utm_campaign=2023_01_srnav_footer) [...] *   [Sports Reference ®](https://www.sports-reference.com/?utm_source=bbr&utm_medium=sr_xsite&utm_campaign=2023_01_srnav)\\n*   [Baseball](https://www.baseball-reference.com/?utm_source=bbr&utm_medium=sr_xsite&utm_campaign=2023_01_srnav)\\n*   [Football](https://www.pro-football-reference.com/?utm_source=bbr&utm_medium=sr_xsite&utm_campaign=2023_01_srnav) [(college)](https://www.sports-reference.com/cfb/)', 'score': 0.78214747}, {'title': 'Los Angeles Lakers 2024-25 Postseason NBA Schedule - ESPN', 'url': 'https://www.espn.com/nba/team/schedule/_/name/lal/los-angeles-lakers', 'content': \"*   [MLB](https://www.espn.com/mlb/)\\n\\n*   [More Sports](http://www.espn.com/)\\n\\n*   [![Image 2: ESPN+](blob:http://localhost/b9a31d3949b1882a09ed2f8508d538f3)](https://www.espn.com/espnplus/?om-navmethod=topnav)\\n\\n*   [![Image 3: ESPN BET](blob:http://localhost/b9a31d3949b1882a09ed2f8508d538f3)](https://espnbet.app.link/V424mquT4Eb?$3p=a_espn)\\n\\n*   [Watch](http://www.espn.com/watch/)\\n\\n*   [Fantasy](https://www.espn.com/fantasy/)\\n\\n*   [](https://www.espn.com/where-to-watch) [...] Los Angeles Lakers 2024-25 Regular Season NBA Schedule - ESPN\\n===============\\n\\n![Image 1](blob:http://localhost/2ae4cf0a8557682a62e562fa2b78188e)\\n\\nSkip to main contentSkip to navigation\\n\\n[ESPN](https://www.espn.com/)\\n\\n*   [NFL](https://www.espn.com/nfl/)\\n\\n*   [NBA](https://www.espn.com/nba/)\\n\\n*   [NHL](https://www.espn.com/nhl/)\\n\\n*   [NCAAM](https://www.espn.com/mens-college-basketball/)\\n\\n*   [NCAAW](https://www.espn.com/womens-college-basketball/)\\n\\n*   [Soccer](https://www.espn.com/soccer/) [...] *   [Fantasy Men's Basketball](https://www.espn.com/fantasy/mens-basketball/)\\n\\n*   [Tickets](https://www.vividseats.com/nba/los-angeles-lakers-tickets.html?wsUser=717&wsVar=us~nba~team,nba,desktop,en)\\n\\nLos Angeles Lakers Schedule 2024-25\\n===================================\", 'score': 0.5553635}, {'title': 'Los Angeles Lakers - News, Schedule, Scores, Roster, and Stats', 'url': 'https://www.nytimes.com/athletic/nba/team/lakers/', 'content': 'Connections: Sports Edition · NBA · Teams. • • •. Playoffs CoverageMock DraftPlayer PollThe Basketball 100. Los Angeles Lakers. (50-32). ·. 3rd', 'score': 0.52071625}, {'title': 'Lakers | Crypto.com Arena', 'url': 'https://www.cryptoarena.com/teams/detail/lakers', 'content': 'Crypto.com Arena is home to the Los Angeles Lakers of the National Basketball Association. View Website', 'score': 0.5151571}, {'title': 'Schedule | Los Angeles Lakers - NBA', 'url': 'https://www.nba.com/lakers/schedule', 'content': '*   [Careers](https://sites.teamworkonline.com/los-angeles-lakers/) [...] *   [Careers](https://sites.teamworkonline.com/los-angeles-lakers/) [...] [](https://www.facebook.com/losangeleslakers \"Find us on Facebook\")[](https://twitter.com/lakers \"Find us on X\")[](https://www.instagram.com/lakers/ \"Find us on Instagram\")[](https://www.youtube.com/channel/UC8CSt-oVqy8pUAoKSApTxQw \"Find us on YouTube\")[](https://www.tiktok.com/@lakers?lang=en \"Find us on TikTok\")[](https://www.snapchat.com/add/lakerssnaps \"Find us on SnapChat\")[](https://www.nba.com/lakers/connect/lakers-main-sub \"Find us on Email\")\\n\\n* * *', 'score': 0.51325434}]\u001b[0m\n",
            "Thought:\u001b[32;1m\u001b[1;3mThought: The search results consistently mention the Los Angeles Lakers in the context of basketball, including references to the NBA (National Basketball Association) and basketball-related websites. This confirms that the team is most famous for playing basketball.\n",
            "\n",
            "Final Answer: basketball\u001b[0m\n",
            "\n",
            "\u001b[1m> Finished chain.\u001b[0m\n",
            "\n",
            "\n",
            "\u001b[1m> Entering new AgentExecutor chain...\u001b[0m\n",
            "\u001b[32;1m\u001b[1;3mThought: I need to find out which sport Manchester United is most famous for. Since Manchester United is a well-known team, I can use a search engine to quickly confirm the sport they play.\n",
            "\n",
            "Action: tavily_search_results_json\n",
            "Action Input: \"Manchester United sport\"\n",
            "\u001b[0m\n",
            "Observation: \u001b[36;1m\u001b[1;3m[{'title': 'Manchester United F.C. - Wikipedia', 'url': 'https://en.wikipedia.org/wiki/Manchester_United_F.C.', 'content': '**Manchester United Football Club**, commonly referred to as **Man United** (often stylised as **Man Utd**) or simply **United**, is a professional [football](https://en.wikipedia.org/wiki/Association_football \"Association football\") club based in [Old Trafford](https://en.wikipedia.org/wiki/Old_Trafford_(area) \"Old Trafford (area)\"), Greater Manchester, England. They compete in the [Premier League](https://en.wikipedia.org/wiki/Premier_League \"Premier League\"), the top tier of [English [...] football](https://en.wikipedia.org/wiki/English_football_league_system \"English football league system\"). Nicknamed the Red Devils, they were founded as **Newton Heath LYR Football Club** in 1878, but changed their name to Manchester United in 1902. After a spell playing in [Clayton, Manchester](https://en.wikipedia.org/wiki/Clayton,_Manchester \"Clayton, Manchester\"), the club moved to their current stadium, [Old Trafford](https://en.wikipedia.org/wiki/Old_Trafford \"Old Trafford\"), in 1910. [...] Manchester United is one of the most widely supported football clubs in the world[[11]](https://en.wikipedia.org/wiki/Manchester_United_F.C.#cite_note-hamil_126-11)[[12]](https://en.wikipedia.org/wiki/Manchester_United_F.C.#cite_note-Marca-12) and have rivalries with [Liverpool](https://en.wikipedia.org/wiki/Liverpool_F.C.%E2%80%93Manchester_United_F.C._rivalry \"Liverpool F.C.–Manchester United F.C. rivalry\"), [Manchester City](https://en.wikipedia.org/wiki/Manchester_derby \"Manchester derby\"),', 'score': 0.7463059}, {'title': 'Manchester United - News, Schedule, Scores, Roster, and Stats', 'url': 'https://www.nytimes.com/athletic/football/team/manchester-united/', 'content': \"[UFC 309 Jones vs. Miocic](https://www.nytimes.com/athletic/live-blogs/ufc-309-jones-vs-miocic-live-updates-fight-results-times/ULmFZNxvfvVj/)\\n\\nBoxing\\n\\n[Home](https://www.nytimes.com/athletic/boxing/)\\n\\nThe Pulse Newsletter\\n\\nCities\\n\\nFrench Open\\n\\nWomen's College World Series\\n\\nToday's News\\n\\nConnections: Sports Edition\\n\\n![Manchester United](https://static01.nyt.com/athletic/logos/team/team-logo-655-300x300.png?width=96&quality=70&format=auto)\\n\\n# Manchester United [...] ,PHN2ZyBpZD0iQ09OVEVOVCIgeG1sbnM9Imh0dHA6Ly93d3cudzMub3JnLzIwMDAvc3ZnIiB2aWV3Qm94PSIwIDAgMTQ0OS41NyAyMDAiPjxwYXRoIHN0eWxlPSJmaWxsOiNmZmY7IiBkPSJNMzYxLjEzLDEzOS43OGMyLDE0Ljc1LDEzLjU5LDI4LDMwLjM3LDI4LDExLDAsMjEuNC00LjYyLDI2LjYxLTEzLjU5bDM5LjA1LDRjLTExLjg2LDI4LjM0LTM2Ljc0LDQxLjY1LTY2LjI0LDQxLjY1LTM5LjYyLDAtNjkuNDItMzAuNTctNjkuNDItNzEuMDZzMjkuMjItNzEuMDYsNjguODQtNzEuMDZjMzYuNDUsMCw2OS40MiwyNS4wNyw2OS40Miw4MC42MXYxLjQ0Wm0tLjg3LTI1LjE2aDU5LjNjLTItMTMuMzEtMTMuMzEtMjUuNjUtMjkuMjItMjUuNjVTMzYzLjE1LDEwMC4 [...] ,iVBORw0KGgoAAAANSUhEUgAAACQAAAAcCAMAAAA+9+1qAAAAb1BMVEUAAACNjY19fX1+fn5+fn59fX1+fn5/f3+AgIB9fX1+fn5/f399fX1+fn6AgIB/f3+BgYF9fX19fX1/f3+Dg4OEhISKiop9fX1+fn59fX1/f39+fn6CgoJ+fn59fX1+fn5/f3+CgoKJiYl+fn59fX2aS4TsAAAAJHRSTlMABXLv4c+vQyu3kGL49ltOI9q8Uh0QC+nDn4loFdahezEZCZac0dbIAAAA+klEQVQ4y43T2Y6DIBSA4cOiKO7bqK1d57z/Mw5DiWWxpN+VnvwRiAEOjXTpuvy86ZcWlIb4zblCjTUwDf1NTaYq9apf3CUl8qcaDYj9zx7ogS0Z2waA/j9lVsTtpsy7eVSRfj7tH8vQNd/VUKDGa5MV6C0HCpnNa3UVoNRuNJgDvydsud5ObiR0Q8Aah15HojntI9GmI4ExDLSJxaIUXmgsKkxE8kj\", 'score': 0.49392182}, {'title': 'Man United News, MUFC Transfer News & Rumours - NewsNow', 'url': 'https://www.newsnow.com/us/Sports/Soccer/Premier+League/Manchester+United', 'content': \"Founded in 1878, Manchester United is renowned as one of the world's most iconic football clubs, boasting an impressive trophy cabinet including 20 league titles, 13 FA Cups, and a record 21 FA Community Shields. Under Sir Alex Ferguson’s legendary 27-year tenure, the club enjoyed unparallelled success. In European competitions, United have clinched titles including the European Cup, which they won three times (once as the European Cup and twice under its current name, the UEFA Champions [...] ![NewsNow](/images/nn-logo-inline.svg)\\n\\n# [Manchester United](/us/Sports/Soccer/Premier+League/Manchester+United)\\xa0 Share\\n\\nShare\\n\\n![](/images/affiliate-ads/nn-logo-only.svg)\\n![](/flags/large/UK.png)\\n![](/flags/large/UK.png)\\n![](/flags/large/UK.png)\\n![](/flags/large/UK.png)\\n![](/flags/large/UK.png)\\n![](/flags/large/UK.png)\\n\\n## Latest\", 'score': 0.48191768}, {'title': 'Manchester United Scores, Stats and Highlights - ESPN', 'url': 'https://www.espn.com/soccer/team/_/id/360/manchester-united', 'content': '*   [NFL](https://www.espn.com/nfl/)\\n*   [NBA](https://www.espn.com/nba/)\\n*   [NHL](https://www.espn.com/nhl/)\\n*   [MLB](https://www.espn.com/mlb/)\\n*   [WNBA](https://www.espn.com/wnba/)\\n*   [Golf](https://www.espn.com/golf/)\\n*   [More Sports](http://www.espn.com/)', 'score': 0.44116792}, {'title': 'Man Utd - Transfer news, results, fixtures, video and audio - BBC', 'url': 'https://www.bbc.com/sport/football/teams/manchester-united', 'content': '![](https://ichef.bbci.co.uk/ace/standard/228/cpsprodpb/d93d/live/270cef10-f52b-11eb-8617-87bebb01a75e.jpg)\\n\\n# Manchester United\\n\\n## Scores & Fixtures\\n\\n## [Scores & Fixtures](/sport/football/teams/manchester-united/scores-fixtures)\\n\\n![](https://static.files.bbci.co.uk/core/website/assets/static/sport/football/manchester-united.86bd98b7c3.svg)\\n![](https://static.files.bbci.co.uk/core/website/assets/static/sport/football/aston-villa.7462c0d498.svg)\\n\\n## Latest updates', 'score': 0.42634606}]\u001b[0m\n",
            "Thought:\u001b[32;1m\u001b[1;3mThought: Based on the search results, Manchester United is most famously associated with football (also known as soccer in some regions). The Wikipedia page explicitly states that they are a professional football club.\n",
            "\n",
            "Final Answer: football\u001b[0m\n",
            "\n",
            "\u001b[1m> Finished chain.\u001b[0m\n",
            "\n",
            "\n",
            "\u001b[1m> Entering new AgentExecutor chain...\u001b[0m\n",
            "\u001b[32;1m\u001b[1;3mThought: I need to find out what sport the Toronto Maple Leafs are associated with, focusing on the most famous one if there are multiple.\n",
            "\n",
            "Action: tavily_search_results_json\n",
            "Action Input: \"Toronto Maple Leafs sport\"\n",
            "\u001b[0m\n",
            "Observation: \u001b[36;1m\u001b[1;3m[{'title': 'Toronto Maple Leafs - Wikipedia', 'url': 'https://en.wikipedia.org/wiki/Toronto_Maple_Leafs', 'content': 'The **Toronto Maple Leafs** (officially the **Toronto Maple Leaf Hockey Club** and often referred to as the **Leafs**) are a professional [ice hockey](/wiki/Ice_hockey \"Ice hockey\") team based in [Toronto](/wiki/Toronto \"Toronto\"). The Maple Leafs compete in the [National Hockey League](/wiki/National_Hockey_League \"National Hockey League\") (NHL) as a member of the [Atlantic Division](/wiki/Atlantic_Division_(NHL) \"Atlantic Division (NHL)\") in the [Eastern [...] [e](/wiki/Special:EditPage/Template:Toronto_Sports \"Special:EditPage/Template:Toronto Sports\")  Sports in the [Greater Toronto Area](/wiki/Greater_Toronto_Area \"Greater Toronto Area\") | | | --- | --- | | General | - [List of sports teams in Toronto](/wiki/List_of_sports_teams_in_Toronto \"List of sports teams in Toronto\") - [Sports in Toronto](/wiki/Sports_in_Toronto \"Sports in Toronto\") | | [Baseball](/wiki/Baseball \"Baseball\") | [MLB](/wiki/Major_League_Baseball \"Major League Baseball\") [...] Soccer](/wiki/Major_League_Soccer \"Major League Soccer\"), the Toronto Marlies of the AHL, the [Toronto Argonauts](/wiki/Toronto_Argonauts \"Toronto Argonauts\") of the Canadian Football League, and a 37.5 percent stake in [Maple Leaf Square](/wiki/Maple_Leaf_Square \"Maple Leaf Square\").[[304]](#cite_note-308)', 'score': 0.8312667}]\u001b[0m\n",
            "Thought:\u001b[32;1m\u001b[1;3mI now know the final answer\n",
            "Final Answer: ice hockey\u001b[0m\n",
            "\n",
            "\u001b[1m> Finished chain.\u001b[0m\n"
          ]
        },
        {
          "data": {
            "text/html": [
              "<div>\n",
              "<style scoped>\n",
              "    .dataframe tbody tr th:only-of-type {\n",
              "        vertical-align: middle;\n",
              "    }\n",
              "\n",
              "    .dataframe tbody tr th {\n",
              "        vertical-align: top;\n",
              "    }\n",
              "\n",
              "    .dataframe thead th {\n",
              "        text-align: right;\n",
              "    }\n",
              "</style>\n",
              "<table border=\"1\" class=\"dataframe\">\n",
              "  <thead>\n",
              "    <tr style=\"text-align: right;\">\n",
              "      <th></th>\n",
              "      <th>Team</th>\n",
              "      <th>Country</th>\n",
              "      <th>City</th>\n",
              "      <th>Stadium Capacity</th>\n",
              "      <th>Sport</th>\n",
              "    </tr>\n",
              "  </thead>\n",
              "  <tbody>\n",
              "    <tr>\n",
              "      <th>0</th>\n",
              "      <td>Los Angeles Lakers</td>\n",
              "      <td>USA</td>\n",
              "      <td>Los Angeles</td>\n",
              "      <td>19000</td>\n",
              "      <td>basketball</td>\n",
              "    </tr>\n",
              "    <tr>\n",
              "      <th>1</th>\n",
              "      <td>Manchester United</td>\n",
              "      <td>UK</td>\n",
              "      <td>Manchester</td>\n",
              "      <td>74000</td>\n",
              "      <td>football</td>\n",
              "    </tr>\n",
              "    <tr>\n",
              "      <th>2</th>\n",
              "      <td>Toronto Maple Leafs</td>\n",
              "      <td>Canada</td>\n",
              "      <td>Toronto</td>\n",
              "      <td>18600</td>\n",
              "      <td>ice hockey</td>\n",
              "    </tr>\n",
              "    <tr>\n",
              "      <th>3</th>\n",
              "      <td>Golden State Warriors</td>\n",
              "      <td>USA</td>\n",
              "      <td>San Francisco</td>\n",
              "      <td>19500</td>\n",
              "      <td>NaN</td>\n",
              "    </tr>\n",
              "    <tr>\n",
              "      <th>4</th>\n",
              "      <td>New England Patriots</td>\n",
              "      <td>USA</td>\n",
              "      <td>Boston</td>\n",
              "      <td>65878</td>\n",
              "      <td>NaN</td>\n",
              "    </tr>\n",
              "  </tbody>\n",
              "</table>\n",
              "</div>"
            ],
            "text/plain": [
              "                    Team Country           City  Stadium Capacity       Sport\n",
              "0     Los Angeles Lakers     USA    Los Angeles             19000  basketball\n",
              "1      Manchester United      UK     Manchester             74000    football\n",
              "2    Toronto Maple Leafs  Canada        Toronto             18600  ice hockey\n",
              "3  Golden State Warriors     USA  San Francisco             19500         NaN\n",
              "4   New England Patriots     USA         Boston             65878         NaN"
            ]
          },
          "execution_count": 17,
          "metadata": {},
          "output_type": "execute_result"
        }
      ],
      "source": [
        "# Define a function that sends a query to an LLM agent to classify the sport associated with a given team name.\n",
        "# The agent uses web search and reasoning to identify the sport, and returns only the name of the most well-known one.\n",
        "# If an error occurs during the query process, it returns an error message instead.\n",
        "def classify_team_with_agent(team_name):\n",
        "    try:\n",
        "        query = f\"\"\"What sport does the team '{team_name}' play? only return\n",
        "        the sport name, if there are multiple sports associated with the name,\n",
        "        only return the most famous one\"\"\"\n",
        "        return agent.run(query)\n",
        "    except Exception as e:\n",
        "        return f\"error: {str(e)}\"\n",
        "\n",
        "# Apply the classification function to the first 3 rows of the 'Team' column in the DataFrame.\n",
        "# The result is stored in a new column called 'Sport'. This is useful for testing before applying to the full dataset.\n",
        "df[\"Sport\"] = df[:3][\"Team\"].apply(classify_team_with_agent)\n",
        "\n",
        "df.head()"
      ]
    },
    {
      "cell_type": "markdown",
      "metadata": {
        "id": "ns4aLOEXjvmZ"
      },
      "source": [
        "## Step 6: Save the Updated Table\n",
        "\n",
        "The resulting DataFrame will be saved to a new CSV file with the added sport classification column."
      ]
    },
    {
      "cell_type": "code",
      "execution_count": null,
      "metadata": {
        "colab": {
          "base_uri": "https://localhost:8080/"
        },
        "id": "UCLase_GjvmZ",
        "outputId": "52a03daf-e43f-40bd-aed8-754bbcc02106"
      },
      "outputs": [
        {
          "name": "stdout",
          "output_type": "stream",
          "text": [
            "Saved results to classified_teams_with_web_search.csv\n"
          ]
        }
      ],
      "source": [
        "output_path = \"classified_teams_with_web_search.csv\"\n",
        "df.to_csv(output_path, index=False)\n",
        "print(f\"Saved results to {output_path}\")"
      ]
    }
  ],
  "metadata": {
    "colab": {
      "provenance": []
    },
    "kernelspec": {
      "display_name": "venv",
      "language": "python",
      "name": "python3"
    },
    "language_info": {
      "codemirror_mode": {
        "name": "ipython",
        "version": 3
      },
      "file_extension": ".py",
      "mimetype": "text/x-python",
      "name": "python",
      "nbconvert_exporter": "python",
      "pygments_lexer": "ipython3",
      "version": "3.12.7"
    }
  },
  "nbformat": 4,
  "nbformat_minor": 0
}
