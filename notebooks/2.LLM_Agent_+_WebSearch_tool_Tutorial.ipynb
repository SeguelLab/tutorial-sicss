{
  "cells": [
    {
      "cell_type": "markdown",
      "metadata": {
        "id": "GQGm1yiNEr7b"
      },
      "source": []
    },
    {
      "cell_type": "markdown",
      "metadata": {
        "id": "_aSZcnNA-aTQ"
      },
      "source": [
        "# Introduction to LLM Agents with LangChain\n",
        "\n",
        "This notebook introduces the concept of LLM agents using the LangChain library (https://python.langchain.com/docs/introduction/). Unlike simple API calls to large language models (LLMs), agents are designed to perform more complex tasks by reasoning, planning, and using tools. In this tutorial, we will:\n",
        "\n",
        "- Explain what an LLM agent is\n",
        "- Install and set up LangChain\n",
        "- Create a simple LLM agent\n",
        "- Use the agent to perform a basic information retrieval task"
      ]
    },
    {
      "cell_type": "markdown",
      "metadata": {
        "id": "wWqNTOAK-aTR"
      },
      "source": [
        "## What is an LLM Agent?\n",
        "\n",
        "An LLM agent is a system that uses a large language model not just to generate a single response, but to decide how to solve a task using reasoning and actions. This often includes invoking external tools, running code, or making sequential decisions. LangChain provides a framework for building such agents in Python."
      ]
    },
    {
      "cell_type": "markdown",
      "metadata": {
        "id": "X0CSLg7WEB1A"
      },
      "source": [
        "# Using an LLM Agent with Internal Web Search in LangChain\n",
        "\n",
        "This notebook demonstrates how to build an LLM agent using LangChain that leverages an internal web search tool. The agent will automatically retrieve live information from the web to answer questions. We will use the Tavily API, a free and easy-to-use web search integration for LangChain."
      ]
    },
    {
      "cell_type": "markdown",
      "metadata": {
        "id": "ha90hbL0EB1C"
      },
      "source": [
        "## Step 1: Install Required Packages\n",
        "\n",
        "We will install the necessary LangChain packages along with the Tavily web search integration (https://www.tavily.com/)."
      ]
    },
    {
      "cell_type": "code",
      "execution_count": 1,
      "metadata": {
        "colab": {
          "base_uri": "https://localhost:8080/"
        },
        "id": "gSXk9pv5EB1C",
        "outputId": "2cc0eee9-96c2-4307-8dfb-52a660370d80"
      },
      "outputs": [],
      "source": [
        "!pip install --quiet langchain_openai langchain-community tavily-python"
      ]
    },
    {
      "cell_type": "markdown",
      "metadata": {
        "id": "9E8jbOUIEB1D"
      },
      "source": [
        "## Step 2: Set Up API Keys\n",
        "\n",
        "You will need:\n",
        "- An OpenAI API key for the LLM\n",
        "- A Tavily API key for the web search tool\n",
        "\n",
        "You can sign up for Tavily at: https://app.tavily.com/"
      ]
    },
    {
      "cell_type": "code",
      "execution_count": 3,
      "metadata": {
        "colab": {
          "base_uri": "https://localhost:8080/"
        },
        "id": "9sISRhEGEB1D",
        "outputId": "6501ca33-02e5-4c25-fadb-0140760b4301"
      },
      "outputs": [],
      "source": [
        "import os\n",
        "import getpass\n",
        "\n",
        "os.environ[\"OPENAI_API_KEY\"] = getpass.getpass(\"Enter your OpenAI API key: \")\n",
        "os.environ[\"TAVILY_API_KEY\"] = getpass.getpass(\"Enter your Tavily API key: \")"
      ]
    },
    {
      "cell_type": "markdown",
      "metadata": {
        "id": "OUGCYgbWEB1D"
      },
      "source": [
        "## Step 3: Create an LLM Agent with Web Search Tool\n",
        "\n",
        "We will use LangChain's `TavilySearchResults` tool and initialize an agent that can search the web to retrieve answers."
      ]
    },
    {
      "cell_type": "code",
      "execution_count": 4,
      "metadata": {
        "colab": {
          "base_uri": "https://localhost:8080/"
        },
        "id": "JQB1wHFYEB1D",
        "outputId": "b7b8433a-cfee-4c1a-fe42-31c9a563719b"
      },
      "outputs": [
        {
          "name": "stderr",
          "output_type": "stream",
          "text": [
            "C:\\Users\\silva\\AppData\\Local\\Temp\\ipykernel_31736\\2409491307.py:12: LangChainDeprecationWarning: LangChain agents will continue to be supported, but it is recommended for new use cases to be built with LangGraph. LangGraph offers a more flexible and full-featured framework for building agents, including support for tool-calling, persistence of state, and human-in-the-loop workflows. For details, refer to the `LangGraph documentation <https://langchain-ai.github.io/langgraph/>`_ as well as guides for `Migrating from AgentExecutor <https://python.langchain.com/docs/how_to/migrate_agent/>`_ and LangGraph's `Pre-built ReAct agent <https://langchain-ai.github.io/langgraph/how-tos/create-react-agent/>`_.\n",
            "  agent = initialize_agent(\n"
          ]
        }
      ],
      "source": [
        "from langchain_openai import ChatOpenAI\n",
        "from langchain.agents import initialize_agent, AgentType\n",
        "from langchain_community.tools import TavilySearchResults\n",
        "\n",
        "# Initialize the LLM\n",
        "llm = ChatOpenAI(temperature=0)\n",
        "\n",
        "# Initialize the web search tool\n",
        "search_tool = TavilySearchResults()\n",
        "\n",
        "# Create the agent\n",
        "agent = initialize_agent(\n",
        "    tools=[search_tool],\n",
        "    llm=llm,\n",
        "    agent=AgentType.ZERO_SHOT_REACT_DESCRIPTION,\n",
        "    verbose=True\n",
        ")"
      ]
    },
    {
      "cell_type": "markdown",
      "metadata": {
        "id": "IRlrCYEgEB1E"
      },
      "source": [
        "## Step 4: Ask a Web Search Question\n",
        "\n",
        "Let's now test the agent by asking a question that requires a real-time search."
      ]
    },
    {
      "cell_type": "code",
      "execution_count": 5,
      "metadata": {
        "colab": {
          "base_uri": "https://localhost:8080/"
        },
        "id": "n9LezGIYEB1E",
        "outputId": "81d97e7a-1d9a-4c6e-9703-ea9b498df44d"
      },
      "outputs": [
        {
          "name": "stderr",
          "output_type": "stream",
          "text": [
            "C:\\Users\\silva\\AppData\\Local\\Temp\\ipykernel_31736\\2520808755.py:2: LangChainDeprecationWarning: The method `Chain.run` was deprecated in langchain 0.1.0 and will be removed in 1.0. Use :meth:`~invoke` instead.\n",
            "  answer = agent.run(question)\n"
          ]
        },
        {
          "name": "stdout",
          "output_type": "stream",
          "text": [
            "\n",
            "\n",
            "\u001b[1m> Entering new AgentExecutor chain...\u001b[0m\n",
            "\u001b[32;1m\u001b[1;3mI should use the search engine to find the most up-to-date information on the NBA championship winner in 2022.\n",
            "Action: tavily_search_results_json\n",
            "Action Input: NBA championship winner 2022\u001b[0m\n",
            "Observation: \u001b[36;1m\u001b[1;3m[{'title': '2022 NBA Finals - Wikipedia', 'url': 'https://en.wikipedia.org/wiki/2022_NBA_Finals', 'content': \"The 2022 NBA Finals was the championship series of the National Basketball Association (NBA)'s 2021–22 season and conclusion of the season's playoffs. In this best-of-seven playoff series, the Western Conference champion Golden State Warriors defeated the Eastern Conference champion Boston Celtics in six games, winning their fourth championship in eight years. Golden State's Stephen Curry was named the Finals Most Valuable Player (MVP) for the first time in his career. [...] 7 | x–Minnesota Timberwolves | 46 | 36 | .561 | 18.0 | 82\\n8 | pi–Los Angeles Clippers | 42 | 40 | .512 | 22.0 | 82\\n9 | x–New Orleans Pelicans | 36 | 46 | .439 | 28.0 | 82\\n10 | pi−San Antonio Spurs | 34 | 48 | .415 | 30.0 | 82\\n\\n11 | Los Angeles Lakers | 33 | 49 | .402 | 31.0 | 82\\n12 | Sacramento Kings | 30 | 52 | .366 | 34.0 | 82\\n13 | Portland Trail Blazers | 27 | 55 | .329 | 37.0 | 82\\n14 | Oklahoma City Thunder | 24 | 58 | .293 | 40.0 | 82\\n15 | Houston Rockets | 20 | 62 | .244 | 44.0 | 82 [...] pi−San Antonio Spurs | 34 | 48 | .415 | 30.0 | 82 |  | 11 | Los Angeles Lakers | 33 | 49 | .402 | 31.0 | 82 | 12 | Sacramento Kings | 30 | 52 | .366 | 34.0 | 82 | 13 | Portland Trail Blazers | 27 | 55 | .329 | 37.0 | 82 | 14 | Oklahoma City Thunder | 24 | 58 | .293 | 40.0 | 82 | 15 | Houston Rockets | 20 | 62 | .244 | 44.0 | 82\", 'score': 0.90102744}, {'title': 'The Last 10 NBA Finals Champions [Video Recaps]', 'url': 'https://blog.ticketmaster.com/nba-finals-winners/', 'content': '2021–22 NBA Finals Champions: Golden State Warriors\\n\\nThe Golden State Warriors defeated the Boston Celtics, 4–2, to win the 2021–22 NBA Finals. The final game was played at TD Garden in Boston, Massachusetts, on June 16, 2022, with the Warriors winning, 103–90. Steph Curry of the Golden State Warriors received the Bill Russell NBA Finals Most Valuable Player award for the first time in his career. This was the Golden State Warriors fourth championship in eight years. [...] Year | Result | Western Champion | Eastern Champion |  | \\n2024 | 4-1 | Dallas Mavericks | Boston Celtics |  | \\n2023 | 4-1 | Denver Nuggets | Miami Heat |  | \\n2022 | 4–2 | Golden State Warriors | Boston Celtics |  | \\n2021 | 2–4 | Phoenix Suns | Milwaukee Bucks |  | \\n2020 | 4–2 | Los Angeles Lakers | Miami Heat |  | \\n2019 | 2–4 | Golden State Warriors | Toronto Raptors |  | \\n2018 | 4–0 | Golden State Warriors | Cleveland Cavaliers |  | [...] 2022–23 NBA Finals Champions: Denver Nuggets\\n\\nLed by superstar center Nikola Jokic, the Denver Nuggets battled their way through a tough Western Conference to reach the NBA Finals, where they faced off against the Miami Heat, winning the title 4 games to 1. Winning the fifth game, 94-89, after a second-half comeback, the Nuggets hoisted the Larry O’Brien Trophy on June 12, 2023 for the first time in franchise history. Nikola Jokic was unanimously named NBA Finals Most Valuable Player.', 'score': 0.83549726}, {'title': 'List of NBA champions - Wikipedia', 'url': 'https://en.wikipedia.org/wiki/List_of_NBA_champions', 'content': '| 2021 | Phoenix Suns (2) (3, 0–3) | Monty Williams | 2–4 | Milwaukee Bucks (3) (3, 2–1) | Mike Budenholzer | Giannis Antetokounmpo | [100] |\\n| 2022 | Golden State Warriors (3) (12, 7–5) | Steve Kerr | 4–2 | Boston Celtics (2) (22, 17–5) | Ime Udoka | Stephen Curry | [101] |\\n| 2023 | Denver Nuggets (1) (1, 1–0) | Michael Malone | 4–1 | Miami Heat (8) (7, 3–4) | Erik Spoelstra | Nikola Jokić | [102] | [...] | Los Angeles Lakers[i] | 17 | 15 | 32 | .531 | 1949, 1950, 1952, 1953, 1954, 1972, 1980, 1982, 1985, 1987, 1988, 2000, 2001, 2002, 2009, 2010, 2020 | 1959, 1962, 1963, 1965, 1966, 1968, 1969, 1970, 1973, 1983, 1984, 1989, 1991, 2004, 2008 |\\n| Golden State Warriors[ii] | 7 | 5 | 12 | .583 | 1947, 1956, 1975, 2015, 2017, 2018, 2022 | 1948, 1964, 1967, 2016, 2019 |\\n| Chicago Bulls | 6 | 0 | 6 | 1.000 | 1991, 1992, 1993, 1996, 1997, 1998 | — | [...] 2020: Los Angeles Lakers\\n2021: Milwaukee Bucks\\n2022: Golden State Warriors\\n2023: Denver Nuggets\\n2024: Boston Celtics', 'score': 0.77548623}, {'title': 'NBA FINALS 2022 | NBA.com', 'url': 'https://www.nba.com/watch/list/collection/nba-finals-2022', 'content': '#### 2022 Finals Game 6: Warriors clinch title Stephen Curry scored 34 points and was named the NBA Finals MVP as the Warriors claimed their fourth championship in the last 8 seasons, with a 103-90 victory over the Celtics.\\nSeptember 14, 2022\\nNBA Organization [...] Teams\\nAtlantic\\n Boston Celtics Brooklyn Nets New York Knicks Philadelphia 76ers Toronto Raptors\\nCentral\\n Chicago Bulls Cleveland Cavaliers Detroit Pistons Indiana Pacers Milwaukee Bucks\\nSoutheast\\n Atlanta Hawks Charlotte Hornets Miami Heat Orlando Magic Washington Wizards\\nNorthwest\\n Denver Nuggets Minnesota Timberwolves Oklahoma City Thunder Portland Trail Blazers Utah Jazz\\nPacific\\n Golden State Warriors LA Clippers Los Angeles Lakers Phoenix Suns Sacramento Kings\\nSouthwest [...] Dallas Mavericks Houston Rockets Memphis Grizzlies New Orleans Pelicans San Antonio Spurs', 'score': 0.769306}, {'title': 'NBA Champions by Year: Complete list of NBA Finals winners', 'url': 'https://www.foxsports.com/stories/nba/nba-champions-by-year-complete-list-of-nba-finals-winners', 'content': '2024: Boston Celtics defeated Dallas Mavericks (4-1)2023: Denver Nuggets defeated Miami Heat (4-1)2022: Golden State Warriors defeated Boston Celtics (4-2)2021: Milwaukee Bucks defeated Phoenix Suns (4-2)2020: Los Angeles Lakers defeated Miami Heat (4-2)2019: Toronto Raptors defeated Golden State Warriors (4-2)2018: Golden State Warriors defeated Cleveland Cavaliers (4-0)2017: Golden State Warriors defeated Cleveland Cavaliers (4-1)2016: Cleveland Cavaliers defeated Golden State Warriors', 'score': 0.75659186}]\u001b[0m\n",
            "Thought:\u001b[32;1m\u001b[1;3mBased on the search results, the Golden State Warriors won the NBA championship in 2022.\n",
            "Final Answer: Golden State Warriors\u001b[0m\n",
            "\n",
            "\u001b[1m> Finished chain.\u001b[0m\n",
            "Answer: Golden State Warriors\n"
          ]
        }
      ],
      "source": [
        "question = \"Who won the NBA championship in 2022?\"\n",
        "answer = agent.run(question)\n",
        "print(\"Answer:\", answer)"
      ]
    },
    {
      "cell_type": "code",
      "execution_count": 6,
      "metadata": {
        "colab": {
          "base_uri": "https://localhost:8080/"
        },
        "id": "DnbeM3gAGGrE",
        "outputId": "4437e7a9-af3d-4716-eda3-2dae119bd0b9"
      },
      "outputs": [
        {
          "name": "stdout",
          "output_type": "stream",
          "text": [
            "\n",
            "\n",
            "\u001b[1m> Entering new AgentExecutor chain...\u001b[0m\n",
            "\u001b[32;1m\u001b[1;3mI should use tavily_search_results_json to find the answer\n",
            "Action: tavily_search_results_json\n",
            "Action Input: \"La Liga 2025 winner\"\u001b[0m\n",
            "Observation: \u001b[36;1m\u001b[1;3m[{'title': \"Hansi Flick's Barca confirmed as champions ahead of Real Madrid\", 'url': 'https://www.sportingnews.com/us/soccer/news/barcelona-win-la-liga-title-2025-real-madrid-barca-champions/15f8c77885d65d562d37b02b', 'content': \"MORE:Latest Golden Boot standings in La Liga | Most La Liga titles in history\\nBarcelona win La Liga title 2024/25\\nBarcelona were confirmed as champions on May 15, 2025 thanks to their victory over Espanyol.\\nAnother superb goal from teenage sensation Lamine Yamaland a fine late strike from Fermin Lopez secured a 2-0 win against their local rivals. [...] Barcelona are the champions of Spain once again.\\nThe Catalans were confirmed as winners of La Liga following their victory over local rivals Espanyol on May 15.\\nIt had looked as though Barca would claim the title before taking to the field, but a last-second goal from Jacobo Ramon gave Real Madrid a 2-1 win over Mallorca a day earlier to keep their title defence just about alive. [...] Editions\\n### United States [English]### Argentina### Australia### Brasil### Canada### India### 日本### México### 대한민국### España### ไทย### United Kingdom### United States [Español]### Việt Nam\\nAbout UsCareersPrivacy PolicyPrivacy Preferences\\nBarcelona win La Liga title 2024/25: Hansi Flick's Barca confirmed as champions ahead of Real Madrid\\nJoe Wright\\n•\\n•\", 'score': 0.875031}, {'title': 'Pedri wins Best La Liga Player of the Season 2025 by The Athletic ...', 'url': 'https://www.facebook.com/fabrizioromanoherewego/posts/-%F0%9D%90%8E%F0%9D%90%85%F0%9D%90%85%F0%9D%90%88%F0%9D%90%82%F0%9D%90%88%F0%9D%90%80%F0%9D%90%8B-pedri-wins-best-la-liga-player-of-the-season-2025-by-the-athletic-whod/1343765087550979/', 'content': \"OFFICIAL: Pedri wins Best La Liga Player of the Season 2025 by The Athletic. Who'd have YOU voted?\", 'score': 0.853046}, {'title': 'Barcelona crowned La Liga champions after victory over 10-man ...', 'url': 'https://www.theguardian.com/football/2025/may/15/barcelona-la-liga-title-win-espanyol-real-madrid-lamine-yamal', 'content': 'Published Time: 2025-05-15T21:28:04.000Z\\nBarcelona crowned La Liga champions after victory over 10-man Espanyol | Barcelona | The Guardian\\n\\n\\n\\nSkip to main contentSkip to navigation\\nClose dialogue 1/2 Next image Previous image Toggle caption\\nSkip to navigation\\nSupport the Guardian\\nFund the free press with $15 per month\\nSupport usSupport us\\nPrint subscriptions\\nNewsletters\\nSign in\\nUS\\n\\nUS edition\\nUK edition\\nAustralia edition\\nEurope edition\\nInternational edition [...] Sid Lowe at the RCDE Stadium\\nThu 15 May 2025 17.28 EDT Last modified on Fri 16 May 2025 05.35 EDT\\nShare\\n74 74 [...] judeanpopularfront16 May 2025 0.42\\n32\\nView more comments\\nMost viewed\\nMost viewed\\n\\nMost viewed Across the Guardian\\nMost viewed in Football\\n\\nMost viewed Across the\\xa0Guardian', 'score': 0.8409005}, {'title': 'FULL REACTION to Barcelona clinching the 2024-25 ... - YouTube', 'url': 'https://www.youtube.com/watch?v=ncKUc6-Nhh4', 'content': \"FULL REACTION to Barcelona clinching the 2024-25 LALIGA championship ⚽ | ESPN FC\\nESPN FC\\n4640000 subscribers\\n1226 likes\\n70255 views\\n15 May 2025\\nToday on ESPN FC, the panel reacts to Barcelona winning the 2024-25 LALIGA championship.\\n\\n0:00 Espanyol vs. Barcelona\\n6:18 Sid Lowe & Luis Garcia live from the stadium\\n16:24 Barcelona’s young squad\\n24:22 Pedri\\n28:02 Eric Garcia post-match interview\\n30:27 Extra Time [...] surprising league winner Liverpool or Barcelona. Oh um I'm Jeez. I'm I'm kind of leaning Barcelona just because of of how good Real Madrid were last season and they added Kin Mbappe and kind of given a lot of the issues that we we discussed coming out of last season and the financial issues. Um I'm I'm I'm kind of leaning Barcelona but at the same time I I didn't think we'd be talking about Liverpool either. Lewis Garcia picked both of us. Did he? Yeah. Who did I pick? You remember? I don't [...] during the season all of a sudden was all lost and Real Madrid seem to have all the momentum and Barcelona since the start of 2025 have been lights out. Whereas Real Madrid have had all sorts of issues with lack of consistency. There's been a consistency about Barcelona and what they have been. And you're not just consistent just because you show up and you play the same way. You're consistent because the messaging coming from the top. It's also consistent. It's also very sort of even. He we're\", 'score': 0.7216064}, {'title': 'La Liga - Wikipedia', 'url': 'https://en.wikipedia.org/wiki/La_Liga', 'content': 'Since its inception, 62 teams have competed in La Liga. Nine teams have been crowned champions, with Barcelona winning the inaugural La Liga and Real Madrid winning the title a record 36 times. FC Barcelona are also the most recent winners, having won the 2024–25 edition. During the 1940s Valencia, Atlético Madrid and Barcelona emerged as the strongest clubs, winning several titles. Real Madrid and Barcelona dominated the championship in the 1950s, each winning four La Liga titles during the [...] Organising body | Liga Nacional de Fútbol Profesional\\nFounded | 1929; 96\\xa0years ago(1929)\\nCountry | Spain\\nConfederation | UEFA\\nNumber of clubs | 20(since1997–98)\\nLevel on pyramid | 1\\nRelegationto | Segunda División\\nDomestic cup(s) | Copa del ReySupercopa de España\\nInternational cup(s) | UEFA Champions LeagueUEFA Europa LeagueUEFA Conference League\\nCurrent champions | Barcelona(28th title)(2024–25)\\nMost championships | Real Madrid(36 titles)', 'score': 0.7106489}]\u001b[0m\n",
            "Thought:\u001b[32;1m\u001b[1;3mBased on the search results, Barcelona won the La Liga in 2025.\n",
            "Final Answer: Barcelona\u001b[0m\n",
            "\n",
            "\u001b[1m> Finished chain.\u001b[0m\n",
            "Answer: Barcelona\n"
          ]
        }
      ],
      "source": [
        "question = \"Who won the la liga in 2025?\"\n",
        "answer = agent.run(question)\n",
        "print(\"Answer:\", answer)"
      ]
    },
    {
      "cell_type": "markdown",
      "metadata": {
        "id": "1mzlaEzEEB1E"
      },
      "source": [
        "## Summary\n",
        "\n",
        "In this notebook, we used LangChain with a live web search tool to build a question-answering agent. The Tavily API enables the LLM to fetch current or factual information from the web before generating a response. This is useful for tasks that require up-to-date knowledge or information not stored within the model itself."
      ]
    }
  ],
  "metadata": {
    "colab": {
      "provenance": []
    },
    "kernelspec": {
      "display_name": "venv",
      "language": "python",
      "name": "python3"
    },
    "language_info": {
      "codemirror_mode": {
        "name": "ipython",
        "version": 3
      },
      "file_extension": ".py",
      "mimetype": "text/x-python",
      "name": "python",
      "nbconvert_exporter": "python",
      "pygments_lexer": "ipython3",
      "version": "3.12.7"
    }
  },
  "nbformat": 4,
  "nbformat_minor": 0
}
